{
  "nbformat": 4,
  "nbformat_minor": 0,
  "metadata": {
    "kernelspec": {
      "display_name": "Python 3",
      "language": "python",
      "name": "python3"
    },
    "language_info": {
      "codemirror_mode": {
        "name": "ipython",
        "version": 3
      },
      "file_extension": ".py",
      "mimetype": "text/x-python",
      "name": "python",
      "nbconvert_exporter": "python",
      "pygments_lexer": "ipython3",
      "version": "3.7.6"
    },
    "colab": {
      "name": "Tokenization - Third lecture- part 2.ipynb",
      "provenance": []
    }
  },
  "cells": [
    {
      "cell_type": "code",
      "metadata": {
        "id": "-jUSMwly9eN4"
      },
      "source": [
        "#Tokenization is the process of braking up the original text into component pieces(tokens)\n",
        "#Notice that tokens are pieces of the original text \n",
        "#we don't see any conversion to word stems or lemma "
      ],
      "execution_count": null,
      "outputs": []
    },
    {
      "cell_type": "code",
      "metadata": {
        "id": "jfPFZJJM9eN-"
      },
      "source": [
        "import spacy"
      ],
      "execution_count": null,
      "outputs": []
    },
    {
      "cell_type": "code",
      "metadata": {
        "id": "EM8t9V6r9eN_"
      },
      "source": [
        "nlp=spacy.load(\"en_core_web_sm\")"
      ],
      "execution_count": null,
      "outputs": []
    },
    {
      "cell_type": "code",
      "metadata": {
        "id": "yUn7kiw79eOA"
      },
      "source": [
        "mystring='\"we\\'re moving to L.A.!\"'"
      ],
      "execution_count": null,
      "outputs": []
    },
    {
      "cell_type": "code",
      "metadata": {
        "id": "iaPLGM4K9eOC",
        "outputId": "c1563b2f-1af1-4998-aeed-ee51b5f5537f"
      },
      "source": [
        "print(mystring)"
      ],
      "execution_count": null,
      "outputs": [
        {
          "name": "stdout",
          "output_type": "stream",
          "text": [
            "\"we're moving to L.A.!\"\n"
          ]
        }
      ]
    },
    {
      "cell_type": "code",
      "metadata": {
        "id": "uh1mwciA9eOE"
      },
      "source": [
        "doc=nlp(mystring)"
      ],
      "execution_count": null,
      "outputs": []
    },
    {
      "cell_type": "code",
      "metadata": {
        "id": "5XfI4Feb9eOE",
        "outputId": "d93ea031-0229-4698-cc4e-74b21be1399f"
      },
      "source": [
        "for token in doc:\n",
        "    print(token.text)"
      ],
      "execution_count": null,
      "outputs": [
        {
          "name": "stdout",
          "output_type": "stream",
          "text": [
            "\"\n",
            "we\n",
            "'re\n",
            "moving\n",
            "to\n",
            "L.A.\n",
            "!\n",
            "\"\n"
          ]
        }
      ]
    },
    {
      "cell_type": "code",
      "metadata": {
        "id": "L0xUIDmv9eOG"
      },
      "source": [
        "doc2=nlp(u\"we're here to help send snail-mail, email support@outsite.com or visit us at http://oursite.com!\")"
      ],
      "execution_count": null,
      "outputs": []
    },
    {
      "cell_type": "code",
      "metadata": {
        "id": "k5O5r9429eOH",
        "outputId": "d0155593-1a82-4e79-b2f3-0ef4da2df3c1"
      },
      "source": [
        "for tok in doc2:\n",
        "    print(tok)"
      ],
      "execution_count": null,
      "outputs": [
        {
          "name": "stdout",
          "output_type": "stream",
          "text": [
            "we\n",
            "'re\n",
            "here\n",
            "to\n",
            "help\n",
            "send\n",
            "snail\n",
            "-\n",
            "mail\n",
            ",\n",
            "email\n",
            "support@outsite.com\n",
            "or\n",
            "visit\n",
            "us\n",
            "at\n",
            "http://oursite.com\n",
            "!\n"
          ]
        }
      ]
    },
    {
      "cell_type": "code",
      "metadata": {
        "id": "YYCwmy029eOJ"
      },
      "source": [
        "doc3=nlp(u\"A 5km NYC cab ride costs $10.30\")"
      ],
      "execution_count": null,
      "outputs": []
    },
    {
      "cell_type": "code",
      "metadata": {
        "id": "QRwsxXtn9eOK",
        "outputId": "3e4db4a1-2d0a-44f7-94a5-1cc519965d30"
      },
      "source": [
        "for t in doc3:\n",
        "    print(t)"
      ],
      "execution_count": null,
      "outputs": [
        {
          "name": "stdout",
          "output_type": "stream",
          "text": [
            "A\n",
            "5\n",
            "km\n",
            "NYC\n",
            "cab\n",
            "ride\n",
            "costs\n",
            "$\n",
            "10.30\n"
          ]
        }
      ]
    },
    {
      "cell_type": "code",
      "metadata": {
        "id": "TseB0LoU9eOM"
      },
      "source": [
        "doc4=nlp(u\"let's visit St. louis in the U.S. next year.\")"
      ],
      "execution_count": null,
      "outputs": []
    },
    {
      "cell_type": "code",
      "metadata": {
        "id": "hAIWl7Wj9eON",
        "outputId": "39fe64b3-4b25-4ff6-e47e-94bd168e21ef"
      },
      "source": [
        "for t in doc4:\n",
        "    print(t)"
      ],
      "execution_count": null,
      "outputs": [
        {
          "name": "stdout",
          "output_type": "stream",
          "text": [
            "let\n",
            "'s\n",
            "visit\n",
            "St.\n",
            "louis\n",
            "in\n",
            "the\n",
            "U.S.\n",
            "next\n",
            "year\n",
            ".\n"
          ]
        }
      ]
    },
    {
      "cell_type": "code",
      "metadata": {
        "id": "_JIU8qzq9eOO",
        "outputId": "28ccc137-da9a-4792-9b71-4a28a5e08274"
      },
      "source": [
        "len(doc4)\n",
        "#number of tokens doc4 has"
      ],
      "execution_count": null,
      "outputs": [
        {
          "data": {
            "text/plain": [
              "11"
            ]
          },
          "execution_count": 23,
          "metadata": {},
          "output_type": "execute_result"
        }
      ]
    },
    {
      "cell_type": "code",
      "metadata": {
        "id": "J_izJAsF9eOP",
        "outputId": "2993e6a7-440c-4666-8cd0-1a6b33e1835f"
      },
      "source": [
        "len(doc4.vocab)"
      ],
      "execution_count": null,
      "outputs": [
        {
          "data": {
            "text/plain": [
              "57852"
            ]
          },
          "execution_count": 25,
          "metadata": {},
          "output_type": "execute_result"
        }
      ]
    },
    {
      "cell_type": "code",
      "metadata": {
        "id": "HCcRaYXy9eOQ",
        "outputId": "ea740a33-7507-4c36-89d7-e3e6f22ca2a0"
      },
      "source": [
        "len(doc3.vocab)"
      ],
      "execution_count": null,
      "outputs": [
        {
          "data": {
            "text/plain": [
              "57852"
            ]
          },
          "execution_count": 26,
          "metadata": {},
          "output_type": "execute_result"
        }
      ]
    },
    {
      "cell_type": "code",
      "metadata": {
        "id": "oFG19-HC9eOR"
      },
      "source": [
        "#the number 57852 belongs to the loaded en_core_web_sm"
      ],
      "execution_count": null,
      "outputs": []
    },
    {
      "cell_type": "code",
      "metadata": {
        "id": "Kl02meMg9eOS"
      },
      "source": [
        "doc5=nlp(u\"it is better to give than receive\")"
      ],
      "execution_count": null,
      "outputs": []
    },
    {
      "cell_type": "code",
      "metadata": {
        "id": "6kd-MyrM9eOT",
        "outputId": "ab31dc36-780d-4d23-ecbe-c1dff6301833"
      },
      "source": [
        "doc5[4]"
      ],
      "execution_count": null,
      "outputs": [
        {
          "data": {
            "text/plain": [
              "give"
            ]
          },
          "execution_count": 29,
          "metadata": {},
          "output_type": "execute_result"
        }
      ]
    },
    {
      "cell_type": "code",
      "metadata": {
        "id": "ajl2BDaI9eOT",
        "outputId": "c32f4bfd-5183-4faa-f572-c275f9131718"
      },
      "source": [
        "doc5[2:5]"
      ],
      "execution_count": null,
      "outputs": [
        {
          "data": {
            "text/plain": [
              "better to give"
            ]
          },
          "execution_count": 30,
          "metadata": {},
          "output_type": "execute_result"
        }
      ]
    },
    {
      "cell_type": "code",
      "metadata": {
        "id": "0FeAjNN19eOU"
      },
      "source": [
        "#you can't do something like doc5[0]='test'\n",
        "#spacy.tokens.doc.Doc object does not support item assignment "
      ],
      "execution_count": null,
      "outputs": []
    },
    {
      "cell_type": "code",
      "metadata": {
        "id": "0htRn49Q9eOW"
      },
      "source": [
        "doc8= nlp(u'Apple to build a Hong kong facotry for $6 million')"
      ],
      "execution_count": null,
      "outputs": []
    },
    {
      "cell_type": "code",
      "metadata": {
        "id": "rqh-Nl9m9eOX",
        "outputId": "1ebc6011-0a02-42c5-c735-c96645267fac"
      },
      "source": [
        "for token in doc8:\n",
        "    print(token.text)"
      ],
      "execution_count": null,
      "outputs": [
        {
          "name": "stdout",
          "output_type": "stream",
          "text": [
            "Apple\n",
            "to\n",
            "build\n",
            "a\n",
            "Hong\n",
            "kong\n",
            "facotry\n",
            "for\n",
            "$\n",
            "6\n",
            "million\n"
          ]
        }
      ]
    },
    {
      "cell_type": "code",
      "metadata": {
        "id": "0wexiXDK9eOX",
        "outputId": "f847c3f7-1ae2-4f04-f2ac-88df4ff0ef2e"
      },
      "source": [
        "for token in doc8:\n",
        "    print(token.text,end=' | ')"
      ],
      "execution_count": null,
      "outputs": [
        {
          "name": "stdout",
          "output_type": "stream",
          "text": [
            "Apple | to | build | a | Hong | kong | facotry | for | $ | 6 | million | "
          ]
        }
      ]
    },
    {
      "cell_type": "code",
      "metadata": {
        "id": "J9xYvEtD9eOY",
        "outputId": "bf8c2690-a2b1-48ff-a739-cbd24672ae81"
      },
      "source": [
        "for entity in doc8.ents:\n",
        "    print(entity)"
      ],
      "execution_count": null,
      "outputs": [
        {
          "name": "stdout",
          "output_type": "stream",
          "text": [
            "Apple\n",
            "Hong kong\n",
            "$6 million\n"
          ]
        }
      ]
    },
    {
      "cell_type": "code",
      "metadata": {
        "id": "SG4bPRU49eOY"
      },
      "source": [
        "#Apple, Hong Kong and $6 millions are named entities "
      ],
      "execution_count": null,
      "outputs": []
    },
    {
      "cell_type": "code",
      "metadata": {
        "scrolled": true,
        "id": "hZS_xqrm9eOZ",
        "outputId": "19e0b0be-a52b-4878-baa8-c17abfbb7761"
      },
      "source": [
        "for entity in doc8.ents:\n",
        "    print(entity)\n",
        "    print(entity.label_)\n",
        "    print('\\n')"
      ],
      "execution_count": null,
      "outputs": [
        {
          "name": "stdout",
          "output_type": "stream",
          "text": [
            "Apple\n",
            "ORG\n",
            "\n",
            "\n",
            "Hong kong\n",
            "GPE\n",
            "\n",
            "\n",
            "$6 million\n",
            "MONEY\n",
            "\n",
            "\n"
          ]
        }
      ]
    },
    {
      "cell_type": "code",
      "metadata": {
        "id": "VmjvvLhQ9eOZ"
      },
      "source": [
        "#apple is an orginization ORG\n",
        "#check the entity list "
      ],
      "execution_count": null,
      "outputs": []
    },
    {
      "cell_type": "code",
      "metadata": {
        "id": "A5pMSmbk9eOZ",
        "outputId": "0cd7865d-eb6a-4a36-efe8-8d3dcc924063"
      },
      "source": [
        "for entity in doc8.ents:\n",
        "    print(entity)\n",
        "    print(entity.label_)\n",
        "    print(str(spacy.explain(entity.label_)))\n",
        "    print('\\n')"
      ],
      "execution_count": null,
      "outputs": [
        {
          "name": "stdout",
          "output_type": "stream",
          "text": [
            "Apple\n",
            "ORG\n",
            "Companies, agencies, institutions, etc.\n",
            "\n",
            "\n",
            "Hong kong\n",
            "GPE\n",
            "Countries, cities, states\n",
            "\n",
            "\n",
            "$6 million\n",
            "MONEY\n",
            "Monetary values, including unit\n",
            "\n",
            "\n"
          ]
        }
      ]
    },
    {
      "cell_type": "code",
      "metadata": {
        "id": "khcSqQdg9eOa",
        "outputId": "ba8cf72f-b264-4ca4-b5e4-2298c45fa729"
      },
      "source": [
        "print('stay safe')"
      ],
      "execution_count": null,
      "outputs": [
        {
          "name": "stdout",
          "output_type": "stream",
          "text": [
            "stay safe\n"
          ]
        }
      ]
    },
    {
      "cell_type": "code",
      "metadata": {
        "id": "QqNLID8m9eOa"
      },
      "source": [
        ""
      ],
      "execution_count": null,
      "outputs": []
    },
    {
      "cell_type": "code",
      "metadata": {
        "id": "yFif7EKV9eOa"
      },
      "source": [
        ""
      ],
      "execution_count": null,
      "outputs": []
    },
    {
      "cell_type": "code",
      "metadata": {
        "id": "xybpXuSp9eOb"
      },
      "source": [
        ""
      ],
      "execution_count": null,
      "outputs": []
    },
    {
      "cell_type": "code",
      "metadata": {
        "scrolled": false,
        "id": "f0H2gcml9eOb"
      },
      "source": [
        ""
      ],
      "execution_count": null,
      "outputs": []
    },
    {
      "cell_type": "code",
      "metadata": {
        "id": "R9tNSgwr9eOb"
      },
      "source": [
        ""
      ],
      "execution_count": null,
      "outputs": []
    }
  ]
}