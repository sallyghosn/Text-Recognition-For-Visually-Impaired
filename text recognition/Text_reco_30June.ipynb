{
  "nbformat": 4,
  "nbformat_minor": 0,
  "metadata": {
    "colab": {
      "name": "Text_reco_30June.ipynb",
      "provenance": [],
      "collapsed_sections": []
    },
    "kernelspec": {
      "name": "python3",
      "display_name": "Python 3"
    },
    "language_info": {
      "name": "python"
    },
    "accelerator": "GPU"
  },
  "cells": [
    {
      "cell_type": "code",
      "metadata": {
        "id": "SmWjmHwSkxfY"
      },
      "source": [
        "import os\n",
        "import cv2\n",
        "import numpy as np\n",
        "import string\n",
        "import time\n",
        "import pandas as pd\n",
        "import tensorflow as tf\n",
        "import matplotlib.pyplot as plt\n",
        "\n",
        "import tensorflow.keras.backend as K\n",
        "from tensorflow.keras.preprocessing.sequence import pad_sequences\n",
        "\n",
        "from tensorflow.keras.layers import Dense, Reshape, BatchNormalization, Input, Conv2D, MaxPool2D, Lambda, Bidirectional\n",
        "\n",
        "from tensorflow.compat.v1.keras.layers import CuDNNLSTM\n",
        "from tensorflow.keras.models import Model\n",
        "from tensorflow.keras.activations import relu, sigmoid, softmax\n",
        "\n",
        "from tensorflow.keras.utils import to_categorical, Sequence\n",
        "from tensorflow.keras.callbacks import ModelCheckpoint\n",
        "from tqdm import tqdm\n",
        "from collections import Counter\n",
        "\n",
        "from PIL import Image"
      ],
      "execution_count": null,
      "outputs": []
    },
    {
      "cell_type": "code",
      "metadata": {
        "id": "N6L4ZbD3l3h0"
      },
      "source": [
        "!unzip -qq /content/drive/MyDrive/mjsynth_sample.zip"
      ],
      "execution_count": null,
      "outputs": []
    },
    {
      "cell_type": "code",
      "metadata": {
        "id": "UNq8gZInmcak"
      },
      "source": [
        "\n",
        "final_paths = []\n",
        "final_texts = []\n",
        "\n",
        "data_folder = '/content/mjsynth_sample'\n",
        "for path in os.listdir(data_folder):\n",
        "\n",
        "\n",
        "    final_paths.append(data_folder + \"/\" + path)\n",
        "    final_texts.append(path.split(\"_\")[1])"
      ],
      "execution_count": null,
      "outputs": []
    },
    {
      "cell_type": "code",
      "metadata": {
        "colab": {
          "base_uri": "https://localhost:8080/"
        },
        "id": "cGwzcGoynS7Q",
        "outputId": "80649287-4ca4-4373-f3be-4b406f97e263"
      },
      "source": [
        "final_paths[:10], final_texts[:10]"
      ],
      "execution_count": null,
      "outputs": [
        {
          "output_type": "execute_result",
          "data": {
            "text/plain": [
              "(['/content/mjsynth_sample/447_Frontward_31039.jpg',\n",
              "  '/content/mjsynth_sample/8_Script_68689.jpg',\n",
              "  '/content/mjsynth_sample/246_succumbing_75835.jpg',\n",
              "  '/content/mjsynth_sample/203_MISTRAL_49113.jpg',\n",
              "  '/content/mjsynth_sample/379_BU_9915.jpg',\n",
              "  '/content/mjsynth_sample/228_JUNKETS_41989.jpg',\n",
              "  '/content/mjsynth_sample/288_consenting_16230.jpg',\n",
              "  '/content/mjsynth_sample/3_FIBRILS_28725.jpg',\n",
              "  '/content/mjsynth_sample/6_denis_20593.jpg',\n",
              "  '/content/mjsynth_sample/153_Interpretive_40333.jpg'],\n",
              " ['Frontward',\n",
              "  'Script',\n",
              "  'succumbing',\n",
              "  'MISTRAL',\n",
              "  'BU',\n",
              "  'JUNKETS',\n",
              "  'consenting',\n",
              "  'FIBRILS',\n",
              "  'denis',\n",
              "  'Interpretive'])"
            ]
          },
          "metadata": {
            "tags": []
          },
          "execution_count": 13
        }
      ]
    },
    {
      "cell_type": "code",
      "metadata": {
        "colab": {
          "base_uri": "https://localhost:8080/"
        },
        "id": "BUUuNc4_neCh",
        "outputId": "b95e34c7-c628-48cc-ebe5-8a81c7af3304"
      },
      "source": [
        "vocab = set(\"\".join(map(str, final_texts)))\n",
        "print(sorted(vocab))"
      ],
      "execution_count": null,
      "outputs": [
        {
          "output_type": "stream",
          "text": [
            "['0', '1', '2', '3', '4', '5', '6', '7', '8', '9', 'A', 'B', 'C', 'D', 'E', 'F', 'G', 'H', 'I', 'J', 'K', 'L', 'M', 'N', 'O', 'P', 'Q', 'R', 'S', 'T', 'U', 'V', 'W', 'X', 'Y', 'Z', 'a', 'b', 'c', 'd', 'e', 'f', 'g', 'h', 'i', 'j', 'k', 'l', 'm', 'n', 'o', 'p', 'q', 'r', 's', 't', 'u', 'v', 'w', 'x', 'y', 'z']\n"
          ],
          "name": "stdout"
        }
      ]
    },
    {
      "cell_type": "code",
      "metadata": {
        "colab": {
          "base_uri": "https://localhost:8080/"
        },
        "id": "ET9edta_nieQ",
        "outputId": "da713832-7ae3-474e-8771-2dea1c1baa1c"
      },
      "source": [
        "\n",
        "Counter(\"\".join(map(str, final_texts)))"
      ],
      "execution_count": null,
      "outputs": [
        {
          "output_type": "execute_result",
          "data": {
            "text/plain": [
              "Counter({'0': 38,\n",
              "         '1': 56,\n",
              "         '2': 30,\n",
              "         '3': 21,\n",
              "         '4': 26,\n",
              "         '5': 16,\n",
              "         '6': 16,\n",
              "         '7': 15,\n",
              "         '8': 17,\n",
              "         '9': 10,\n",
              "         'A': 12188,\n",
              "         'B': 3874,\n",
              "         'C': 7202,\n",
              "         'D': 6379,\n",
              "         'E': 16729,\n",
              "         'F': 2799,\n",
              "         'G': 4768,\n",
              "         'H': 3898,\n",
              "         'I': 12696,\n",
              "         'J': 518,\n",
              "         'K': 1611,\n",
              "         'L': 7997,\n",
              "         'M': 4745,\n",
              "         'N': 10222,\n",
              "         'O': 8783,\n",
              "         'P': 5178,\n",
              "         'Q': 350,\n",
              "         'R': 11125,\n",
              "         'S': 14094,\n",
              "         'T': 10070,\n",
              "         'U': 4990,\n",
              "         'V': 1787,\n",
              "         'W': 1806,\n",
              "         'X': 428,\n",
              "         'Y': 2289,\n",
              "         'Z': 696,\n",
              "         'a': 21612,\n",
              "         'b': 4718,\n",
              "         'c': 10014,\n",
              "         'd': 9727,\n",
              "         'e': 31936,\n",
              "         'f': 3274,\n",
              "         'g': 8370,\n",
              "         'h': 6096,\n",
              "         'i': 24247,\n",
              "         'j': 453,\n",
              "         'k': 2761,\n",
              "         'l': 14693,\n",
              "         'm': 6928,\n",
              "         'n': 20242,\n",
              "         'o': 17329,\n",
              "         'p': 6905,\n",
              "         'q': 439,\n",
              "         'r': 19957,\n",
              "         's': 23114,\n",
              "         't': 18281,\n",
              "         'u': 9212,\n",
              "         'v': 2718,\n",
              "         'w': 2238,\n",
              "         'x': 818,\n",
              "         'y': 4643,\n",
              "         'z': 1340})"
            ]
          },
          "metadata": {
            "tags": []
          },
          "execution_count": 15
        }
      ]
    },
    {
      "cell_type": "code",
      "metadata": {
        "id": "-StrL-KXnmTl"
      },
      "source": [
        "char_list = sorted(vocab)\n",
        "\n",
        "def encode_to_labels(txt):\n",
        "    # encoding each output word into digits\n",
        "    dig_lst = []\n",
        "    \n",
        "    for index, char in enumerate(txt):\n",
        "        try:\n",
        "            dig_lst.append(char_list.index(char))\n",
        "        except:\n",
        "            print(char)\n",
        "        \n",
        "    return dig_lst"
      ],
      "execution_count": null,
      "outputs": []
    },
    {
      "cell_type": "code",
      "metadata": {
        "id": "eBjCCJDwnqbR"
      },
      "source": [
        "\n",
        "train_final_paths = final_paths[ : int(len(final_paths) * 0.90)]\n",
        "train_final_texts = final_texts[ : int(len(final_texts) * 0.90)]\n",
        "\n",
        "val_final_paths = final_paths[int(len(final_paths) * 0.90) : ]\n",
        "val_final_texts = final_texts[int(len(final_texts) * 0.90) : ]"
      ],
      "execution_count": null,
      "outputs": []
    },
    {
      "cell_type": "code",
      "metadata": {
        "colab": {
          "base_uri": "https://localhost:8080/"
        },
        "id": "POC8VVfhnumI",
        "outputId": "2d7ff667-43e6-4788-be65-71eff9a452f9"
      },
      "source": [
        "len(train_final_paths), len(val_final_paths)"
      ],
      "execution_count": null,
      "outputs": [
        {
          "output_type": "execute_result",
          "data": {
            "text/plain": [
              "(47427, 5270)"
            ]
          },
          "metadata": {
            "tags": []
          },
          "execution_count": 18
        }
      ]
    },
    {
      "cell_type": "code",
      "metadata": {
        "colab": {
          "base_uri": "https://localhost:8080/"
        },
        "id": "7waCECCLnyjX",
        "outputId": "31b9dcab-60b5-420a-8552-76d0eee7ff27"
      },
      "source": [
        "max_label_len = max([len(str(text)) for text in final_texts])\n",
        "print(max_label_len)"
      ],
      "execution_count": null,
      "outputs": [
        {
          "output_type": "stream",
          "text": [
            "23\n"
          ],
          "name": "stdout"
        }
      ]
    },
    {
      "cell_type": "code",
      "metadata": {
        "id": "RzReiCksn8bB"
      },
      "source": [
        "class My_Generator(Sequence):\n",
        "    \n",
        "    def __init__(self, image_filenames, labels, batch_size):\n",
        "        self.image_filenames, self.labels = image_filenames, labels\n",
        "        self.batch_size = batch_size\n",
        "\n",
        "    def __len__(self):\n",
        "        return int(np.ceil(len(self.image_filenames) / float(self.batch_size)))\n",
        "\n",
        "    def __getitem__(self, idx):\n",
        "        \n",
        "        batch_paths = self.image_filenames[idx * self.batch_size:(idx + 1) * self.batch_size]\n",
        "        batch_texts = self.labels[idx * self.batch_size:(idx + 1) * self.batch_size]\n",
        "        \n",
        "        images = []\n",
        "        training_txt = []\n",
        "        train_label_length = []\n",
        "        train_input_length = []\n",
        "\n",
        "        for im_path, text in zip(batch_paths, batch_texts):\n",
        "            \n",
        "            try:\n",
        "                text = str(text).strip()\n",
        "                img = cv2.cvtColor(cv2.imread(im_path), cv2.COLOR_BGR2GRAY)   \n",
        "\n",
        "                ### actually returns h, w\n",
        "                h, w = img.shape\n",
        "\n",
        "                ### if height less than 32\n",
        "                if h < 32:\n",
        "                    add_zeros = np.ones((32-h, w)) * 255\n",
        "                    img = np.concatenate((img, add_zeros))\n",
        "                    h = 32\n",
        "\n",
        "                ## if width less than 128\n",
        "                if w < 128:\n",
        "                    add_zeros = np.ones((h, 128-w)) * 255\n",
        "                    img = np.concatenate((img, add_zeros), axis=1)\n",
        "                    w = 128\n",
        "\n",
        "                ### if width is greater than 128 or height greater than 32\n",
        "                if w > 128 or h > 32:\n",
        "                    img = cv2.resize(img, (128, 32))\n",
        "\n",
        "                img = np.expand_dims(img , axis = 2)\n",
        "\n",
        "                # Normalize each image\n",
        "                img = img / 255.\n",
        "\n",
        "                images.append(img)\n",
        "                training_txt.append(encode_to_labels(text))\n",
        "                train_label_length.append(len(text))\n",
        "                train_input_length.append(31)\n",
        "            except:\n",
        "                \n",
        "                pass\n",
        "\n",
        "        return [np.array(images), \n",
        "               pad_sequences(training_txt, maxlen=max_label_len, padding='post', value=len(char_list)), \n",
        "               np.array(train_input_length), \n",
        "               np.array(train_label_length)], np.zeros(len(images))\n"
      ],
      "execution_count": null,
      "outputs": []
    },
    {
      "cell_type": "code",
      "metadata": {
        "id": "HgFMFNmBoKZ1"
      },
      "source": [
        "batch_size = 128\n",
        "train_generator = My_Generator(train_final_paths, train_final_texts, batch_size)\n",
        "val_generator = My_Generator(val_final_paths, val_final_texts, batch_size)"
      ],
      "execution_count": null,
      "outputs": []
    },
    {
      "cell_type": "code",
      "metadata": {
        "id": "fHnRFuoRoSA3"
      },
      "source": [
        "# input with shape of height=32 and width=128 \n",
        "inputs = Input(shape=(32, 128, 1))\n",
        "\n",
        "conv_1 = Conv2D(16, (3,3), activation = 'relu', padding='same')(inputs)\n",
        "pool_1 = MaxPool2D(pool_size=(2, 2), strides=2)(conv_1)\n",
        " \n",
        "conv_2 = Conv2D(32, (3,3), activation = 'relu', padding='same')(pool_1)\n",
        "pool_2 = MaxPool2D(pool_size=(2, 2), strides=2)(conv_2)\n",
        "\n",
        "conv_3 = Conv2D(64, (3,3), activation = 'relu', padding='same')(pool_2)\n",
        "conv_4 = Conv2D(64, (3,3), activation = 'relu', padding='same')(conv_3)\n",
        "pool_4 = MaxPool2D(pool_size=(2, 1))(conv_4)\n",
        " \n",
        "conv_5 = Conv2D(64, (3,3), activation = 'relu', padding='same')(pool_4)\n",
        "# Batch normalization layer\n",
        "batch_norm_5 = BatchNormalization()(conv_5)\n",
        " \n",
        "conv_6 = Conv2D(64, (3,3), activation = 'relu', padding='same')(batch_norm_5)\n",
        "batch_norm_6 = BatchNormalization()(conv_6)\n",
        "pool_6 = MaxPool2D(pool_size=(2, 1))(batch_norm_6)\n",
        " \n",
        "conv_7 = Conv2D(64, (2,2), activation = 'relu')(pool_6)\n",
        " \n",
        "squeezed = Lambda(lambda x: K.squeeze(x, 1))(conv_7)\n",
        " \n",
        "# bidirectional LSTM layers with units=128\n",
        "blstm_1 = Bidirectional(CuDNNLSTM(128, return_sequences=True))(squeezed)\n",
        "blstm_2 = Bidirectional(CuDNNLSTM(128, return_sequences=True))(blstm_1)\n",
        "\n",
        "outputs = Dense(len(char_list) + 1, activation = 'softmax')(blstm_2)\n",
        "\n",
        "# model to be used at test time\n",
        "reco_text_model = Model(inputs, outputs)"
      ],
      "execution_count": null,
      "outputs": []
    },
    {
      "cell_type": "code",
      "metadata": {
        "colab": {
          "base_uri": "https://localhost:8080/"
        },
        "id": "UM6zmThAoY0G",
        "outputId": "e3e69fb7-7754-4aba-bc1f-232dba3961fb"
      },
      "source": [
        "reco_text_model.summary()"
      ],
      "execution_count": null,
      "outputs": [
        {
          "output_type": "stream",
          "text": [
            "Model: \"model\"\n",
            "_________________________________________________________________\n",
            "Layer (type)                 Output Shape              Param #   \n",
            "=================================================================\n",
            "input_2 (InputLayer)         [(None, 32, 128, 1)]      0         \n",
            "_________________________________________________________________\n",
            "conv2d_7 (Conv2D)            (None, 32, 128, 16)       160       \n",
            "_________________________________________________________________\n",
            "max_pooling2d_4 (MaxPooling2 (None, 16, 64, 16)        0         \n",
            "_________________________________________________________________\n",
            "conv2d_8 (Conv2D)            (None, 16, 64, 32)        4640      \n",
            "_________________________________________________________________\n",
            "max_pooling2d_5 (MaxPooling2 (None, 8, 32, 32)         0         \n",
            "_________________________________________________________________\n",
            "conv2d_9 (Conv2D)            (None, 8, 32, 64)         18496     \n",
            "_________________________________________________________________\n",
            "conv2d_10 (Conv2D)           (None, 8, 32, 64)         36928     \n",
            "_________________________________________________________________\n",
            "max_pooling2d_6 (MaxPooling2 (None, 4, 32, 64)         0         \n",
            "_________________________________________________________________\n",
            "conv2d_11 (Conv2D)           (None, 4, 32, 64)         36928     \n",
            "_________________________________________________________________\n",
            "batch_normalization_2 (Batch (None, 4, 32, 64)         256       \n",
            "_________________________________________________________________\n",
            "conv2d_12 (Conv2D)           (None, 4, 32, 64)         36928     \n",
            "_________________________________________________________________\n",
            "batch_normalization_3 (Batch (None, 4, 32, 64)         256       \n",
            "_________________________________________________________________\n",
            "max_pooling2d_7 (MaxPooling2 (None, 2, 32, 64)         0         \n",
            "_________________________________________________________________\n",
            "conv2d_13 (Conv2D)           (None, 1, 31, 64)         16448     \n",
            "_________________________________________________________________\n",
            "lambda_1 (Lambda)            (None, 31, 64)            0         \n",
            "_________________________________________________________________\n",
            "bidirectional_2 (Bidirection (None, 31, 256)           198656    \n",
            "_________________________________________________________________\n",
            "bidirectional_3 (Bidirection (None, 31, 256)           395264    \n",
            "_________________________________________________________________\n",
            "dense (Dense)                (None, 31, 63)            16191     \n",
            "=================================================================\n",
            "Total params: 761,151\n",
            "Trainable params: 760,895\n",
            "Non-trainable params: 256\n",
            "_________________________________________________________________\n"
          ],
          "name": "stdout"
        }
      ]
    },
    {
      "cell_type": "code",
      "metadata": {
        "id": "aOOmjHOFogGP"
      },
      "source": [
        "labels = Input(name='the_labels', shape=[max_label_len], dtype='float32')\n",
        "input_length = Input(name='input_length', shape=[1], dtype='int64')\n",
        "label_length = Input(name='label_length', shape=[1], dtype='int64')\n",
        "\n",
        "def ctc_lambda_func(args):\n",
        "    y_pred, labels, input_length, label_length = args \n",
        "    return K.ctc_batch_cost(labels, y_pred, input_length, label_length)\n",
        " \n",
        "loss_out = Lambda(ctc_lambda_func, \n",
        "                  output_shape=(1,), \n",
        "                  name='ctc')([outputs, labels, input_length, label_length])\n",
        "\n",
        "#model to be used at training time\n",
        "model = Model(inputs=[inputs, labels, input_length, label_length], outputs=loss_out)"
      ],
      "execution_count": null,
      "outputs": []
    },
    {
      "cell_type": "code",
      "metadata": {
        "id": "zyfYzYMEoniO"
      },
      "source": [
        "file_path = \"text_reco_model.hdf5\"\n",
        "\n",
        "model.compile(loss={'ctc': lambda y_true, y_pred: y_pred}, optimizer = 'adam')\n",
        "\n",
        "\n",
        "checkpoint = ModelCheckpoint(filepath=file_path, \n",
        "                             monitor='val_loss', \n",
        "                             verbose=1, \n",
        "                             save_best_only=True, \n",
        "                             mode='min')\n",
        "\n",
        "callbacks_list = [checkpoint]"
      ],
      "execution_count": null,
      "outputs": []
    },
    {
      "cell_type": "code",
      "metadata": {
        "colab": {
          "base_uri": "https://localhost:8080/"
        },
        "id": "aKvy_2BaoumF",
        "outputId": "5385e994-f1c4-4407-a34b-6995bb4ad17f"
      },
      "source": [
        "epochs = 20\n",
        "\n",
        "history = model.fit(train_generator, \n",
        "                    epochs = epochs,\n",
        "                    steps_per_epoch = len(train_final_paths) // batch_size,\n",
        "                    validation_data=val_generator,\n",
        "                    validation_steps = len(val_final_paths) // batch_size,\n",
        "                    verbose = 0,\n",
        "                    callbacks = callbacks_list,\n",
        "                    shuffle=True)"
      ],
      "execution_count": null,
      "outputs": [
        {
          "output_type": "stream",
          "text": [
            "\n",
            "Epoch 00001: val_loss improved from inf to 29.44557, saving model to text_reco_model.hdf5\n",
            "\n",
            "Epoch 00002: val_loss improved from 29.44557 to 17.09373, saving model to text_reco_model.hdf5\n",
            "\n",
            "Epoch 00003: val_loss improved from 17.09373 to 9.44150, saving model to text_reco_model.hdf5\n",
            "\n",
            "Epoch 00004: val_loss improved from 9.44150 to 7.19574, saving model to text_reco_model.hdf5\n",
            "\n",
            "Epoch 00005: val_loss improved from 7.19574 to 6.46330, saving model to text_reco_model.hdf5\n",
            "\n",
            "Epoch 00006: val_loss improved from 6.46330 to 5.66988, saving model to text_reco_model.hdf5\n",
            "\n",
            "Epoch 00007: val_loss improved from 5.66988 to 5.54549, saving model to text_reco_model.hdf5\n",
            "\n",
            "Epoch 00008: val_loss improved from 5.54549 to 5.37716, saving model to text_reco_model.hdf5\n",
            "\n",
            "Epoch 00009: val_loss improved from 5.37716 to 5.17232, saving model to text_reco_model.hdf5\n",
            "\n",
            "Epoch 00010: val_loss did not improve from 5.17232\n",
            "\n",
            "Epoch 00011: val_loss improved from 5.17232 to 4.92884, saving model to text_reco_model.hdf5\n",
            "\n",
            "Epoch 00012: val_loss improved from 4.92884 to 4.88546, saving model to text_reco_model.hdf5\n",
            "\n",
            "Epoch 00013: val_loss improved from 4.88546 to 4.72518, saving model to text_reco_model.hdf5\n",
            "\n",
            "Epoch 00014: val_loss did not improve from 4.72518\n",
            "\n",
            "Epoch 00015: val_loss did not improve from 4.72518\n",
            "\n",
            "Epoch 00016: val_loss did not improve from 4.72518\n",
            "\n",
            "Epoch 00017: val_loss did not improve from 4.72518\n",
            "\n",
            "Epoch 00018: val_loss did not improve from 4.72518\n",
            "\n",
            "Epoch 00019: val_loss did not improve from 4.72518\n",
            "\n",
            "Epoch 00020: val_loss did not improve from 4.72518\n"
          ],
          "name": "stdout"
        }
      ]
    },
    {
      "cell_type": "code",
      "metadata": {
        "colab": {
          "base_uri": "https://localhost:8080/",
          "height": 295
        },
        "id": "OmMJlQhcwBn9",
        "outputId": "bf35a68d-fd04-4bac-81bd-1bd596082989"
      },
      "source": [
        "plt.plot(history.history['loss'])\n",
        "plt.plot(history.history['val_loss'])\n",
        "plt.title('model loss')\n",
        "plt.ylabel('loss')\n",
        "plt.xlabel('epoch')\n",
        "plt.legend(['train', 'test'], loc='upper left')\n",
        "plt.show()"
      ],
      "execution_count": null,
      "outputs": [
        {
          "output_type": "display_data",
          "data": {
            "image/png": "[encoded data removed]",
            "text/plain": [
              "<Figure size 432x288 with 1 Axes>"
            ]
          },
          "metadata": {
            "tags": [],
            "needs_background": "light"
          }
        }
      ]
    },
    {
      "cell_type": "code",
      "metadata": {
        "id": "NswlzbKm04Ww"
      },
      "source": [
        "def pre_process_image(path):\n",
        "    \n",
        "    img = cv2.cvtColor(cv2.imread(path), cv2.COLOR_BGR2GRAY)\n",
        "    ### actually returns h, w\n",
        "    h, w = img.shape\n",
        "\n",
        "    ### if height less than 32\n",
        "    if h < 32:\n",
        "        add_zeros = np.ones((32-h, w)) * 255\n",
        "        img = np.concatenate((img, add_zeros))\n",
        "        h = 32\n",
        "\n",
        "    ## if width less than 128\n",
        "    if w < 128:\n",
        "        add_zeros = np.ones((h, 128-w)) * 255\n",
        "        img = np.concatenate((img, add_zeros), axis=1)\n",
        "        w = 128\n",
        "\n",
        "    ### if width is greater than 128 or height greater than 32\n",
        "    if w > 128 or h > 32:\n",
        "        img = cv2.resize(img, (128, 32))\n",
        "\n",
        "    \n",
        "    img = np.expand_dims(img , axis = 2)\n",
        "\n",
        "    # Normalize each image\n",
        "    img = img / 255.\n",
        "    \n",
        "    return img"
      ],
      "execution_count": null,
      "outputs": []
    },
    {
      "cell_type": "code",
      "metadata": {
        "id": "cQrFHZkx6V-J"
      },
      "source": [
        "reco_text_model.load_weights('/content/text_reco_model.hdf5')"
      ],
      "execution_count": null,
      "outputs": []
    },
    {
      "cell_type": "code",
      "metadata": {
        "id": "1bimk1Ty7QFg"
      },
      "source": [
        "\n",
        "def predict_output(img):\n",
        "    # predict outputs on validation images\n",
        "    prediction = reco_text_model.predict(np.array([img]))\n",
        "    ## shape (batch_size, num_timesteps, vocab_size)\n",
        "\n",
        "    # use CTC decoder\n",
        "    out = K.get_value(K.ctc_decode(prediction, \n",
        "                                   input_length=np.ones(prediction.shape[0]) * prediction.shape[1],\n",
        "                                   greedy=True)[0][0])\n",
        "\n",
        "    ## get the final text    \n",
        "    for x in out:\n",
        "\n",
        "        print(\"predicted text = \", end = '')\n",
        "\n",
        "        for p in x:\n",
        "\n",
        "            if int(p) != -1:\n",
        "                print(char_list[int(p)], end = '')\n",
        "        \n",
        "        print('\\n')"
      ],
      "execution_count": null,
      "outputs": []
    },
    {
      "cell_type": "code",
      "metadata": {
        "colab": {
          "base_uri": "https://localhost:8080/",
          "height": 1000
        },
        "id": "qwAF4uL07RTC",
        "outputId": "7aa97998-672e-4e19-ffa2-dadd6fe71b3c"
      },
      "source": [
        "from IPython.display import display\n",
        "from random import randrange\n",
        "\n",
        "for i in range(10):\n",
        "    index = randrange(len(val_final_paths))\n",
        "    im = Image.open(val_final_paths[index])\n",
        "    display(im)\n",
        "\n",
        "    print(\"\\n\")\n",
        "\n",
        "    test_img = pre_process_image(val_final_paths[index])\n",
        "    predict_output(test_img)"
      ],
      "execution_count": null,
      "outputs": [
        {
          "output_type": "display_data",
          "data": {
            "image/png": "[encoded data removed]",
            "text/plain": [
              "<PIL.JpegImagePlugin.JpegImageFile image mode=RGB size=97x31 at 0x7F524E653ED0>"
            ]
          },
          "metadata": {
            "tags": []
          }
        },
        {
          "output_type": "stream",
          "text": [
            "\n",
            "\n",
            "predicted text = syringing\n",
            "\n"
          ],
          "name": "stdout"
        },
        {
          "output_type": "display_data",
          "data": {
            "image/png": "[encoded data removed]",
            "text/plain": [
              "<PIL.JpegImagePlugin.JpegImageFile image mode=RGB size=141x31 at 0x7F524E542C50>"
            ]
          },
          "metadata": {
            "tags": []
          }
        },
        {
          "output_type": "stream",
          "text": [
            "\n",
            "\n",
            "predicted text = steamfitter\n",
            "\n"
          ],
          "name": "stdout"
        },
        {
          "output_type": "display_data",
          "data": {
            "image/png": "[encoded data removed]",
            "text/plain": [
              "<PIL.JpegImagePlugin.JpegImageFile image mode=RGB size=81x31 at 0x7F524E4C2510>"
            ]
          },
          "metadata": {
            "tags": []
          }
        },
        {
          "output_type": "stream",
          "text": [
            "\n",
            "\n",
            "predicted text = Crasswinds\n",
            "\n"
          ],
          "name": "stdout"
        },
        {
          "output_type": "display_data",
          "data": {
            "image/png": "[encoded data removed]",
            "text/plain": [
              "<PIL.JpegImagePlugin.JpegImageFile image mode=RGB size=95x31 at 0x7F524E3B9F90>"
            ]
          },
          "metadata": {
            "tags": []
          }
        },
        {
          "output_type": "stream",
          "text": [
            "\n",
            "\n",
            "predicted text = OUTLNING\n",
            "\n"
          ],
          "name": "stdout"
        },
        {
          "output_type": "display_data",
          "data": {
            "image/png": "[encoded data removed]",
            "text/plain": [
              "<PIL.JpegImagePlugin.JpegImageFile image mode=RGB size=140x31 at 0x7F524E3B9BD0>"
            ]
          },
          "metadata": {
            "tags": []
          }
        },
        {
          "output_type": "stream",
          "text": [
            "\n",
            "\n",
            "predicted text = DISAMBIGUALE\n",
            "\n"
          ],
          "name": "stdout"
        },
        {
          "output_type": "display_data",
          "data": {
            "image/png": "[encoded data removed]",
            "text/plain": [
              "<PIL.JpegImagePlugin.JpegImageFile image mode=RGB size=103x31 at 0x7F524E3B9DD0>"
            ]
          },
          "metadata": {
            "tags": []
          }
        },
        {
          "output_type": "stream",
          "text": [
            "\n",
            "\n",
            "predicted text = COCKTAL\n",
            "\n"
          ],
          "name": "stdout"
        },
        {
          "output_type": "display_data",
          "data": {
            "image/png": "[encoded data removed]",
            "text/plain": [
              "<PIL.JpegImagePlugin.JpegImageFile image mode=RGB size=120x32 at 0x7F524E376910>"
            ]
          },
          "metadata": {
            "tags": []
          }
        },
        {
          "output_type": "stream",
          "text": [
            "\n",
            "\n",
            "predicted text = Resounds\n",
            "\n"
          ],
          "name": "stdout"
        },
        {
          "output_type": "display_data",
          "data": {
            "image/png": "[encoded data removed]",
            "text/plain": [
              "<PIL.JpegImagePlugin.JpegImageFile image mode=RGB size=131x31 at 0x7F524E2DCE90>"
            ]
          },
          "metadata": {
            "tags": []
          }
        },
        {
          "output_type": "stream",
          "text": [
            "\n",
            "\n",
            "predicted text = ARCHENEMY\n",
            "\n"
          ],
          "name": "stdout"
        },
        {
          "output_type": "display_data",
          "data": {
            "image/png": "[encoded data removed]",
            "text/plain": [
              "<PIL.JpegImagePlugin.JpegImageFile image mode=RGB size=187x31 at 0x7F524E288D50>"
            ]
          },
          "metadata": {
            "tags": []
          }
        },
        {
          "output_type": "stream",
          "text": [
            "\n",
            "\n",
            "predicted text = OVERHAND\n",
            "\n"
          ],
          "name": "stdout"
        },
        {
          "output_type": "display_data",
          "data": {
            "image/png": "[encoded data removed]",
            "text/plain": [
              "<PIL.JpegImagePlugin.JpegImageFile image mode=RGB size=267x31 at 0x7F524E2B1750>"
            ]
          },
          "metadata": {
            "tags": []
          }
        },
        {
          "output_type": "stream",
          "text": [
            "\n",
            "\n",
            "predicted text = Eerens\n",
            "\n"
          ],
          "name": "stdout"
        }
      ]
    }
  ]
}