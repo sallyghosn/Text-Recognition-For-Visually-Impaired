{
  "nbformat": 4,
  "nbformat_minor": 0,
  "metadata": {
    "colab": {
      "name": "TC_4th.ipynb",
      "provenance": [],
      "collapsed_sections": []
    },
    "kernelspec": {
      "name": "python3",
      "display_name": "Python 3"
    },
    "language_info": {
      "name": "python"
    },
    "accelerator": "GPU"
  },
  "cells": [
    {
      "cell_type": "code",
      "metadata": {
        "id": "g8zjOev4wELV"
      },
      "source": [
        "import os\n",
        "import cv2\n",
        "import numpy as np\n",
        "import string\n",
        "import time\n",
        "import pandas as pd\n",
        "import tensorflow as tf\n",
        "import matplotlib.pyplot as plt\n",
        "\n",
        "import tensorflow.keras.backend as K\n",
        "from tensorflow.keras.preprocessing.sequence import pad_sequences\n",
        "\n",
        "from tensorflow.keras.layers import Dense, Reshape, BatchNormalization, Input, Conv2D, MaxPool2D, Lambda, Bidirectional\n",
        "\n",
        "from tensorflow.compat.v1.keras.layers import CuDNNLSTM\n",
        "from tensorflow.keras.models import Model\n",
        "from tensorflow.keras.activations import relu, sigmoid, softmax\n",
        "\n",
        "from tensorflow.keras.utils import to_categorical, Sequence\n",
        "from tensorflow.keras.callbacks import ModelCheckpoint\n",
        "from tqdm import tqdm\n",
        "from collections import Counter\n",
        "\n",
        "from PIL import Image"
      ],
      "execution_count": null,
      "outputs": []
    },
    {
      "cell_type": "code",
      "metadata": {
        "id": "4uvS4McQ1Q-c",
        "colab": {
          "base_uri": "https://localhost:8080/"
        },
        "outputId": "8c008d22-5c75-466f-9abf-c89a49d0e0cc"
      },
      "source": [
        "!unzip -qq /content/drive/MyDrive/mjsynth_sample.zip"
      ],
      "execution_count": null,
      "outputs": [
        {
          "output_type": "stream",
          "text": [
            "replace mjsynth_sample/182_slinking_71711.jpg? [y]es, [n]o, [A]ll, [N]one, [r]ename: A\n"
          ],
          "name": "stdout"
        }
      ]
    },
    {
      "cell_type": "code",
      "metadata": {
        "id": "LdDm1aFB1VpJ"
      },
      "source": [
        "\n",
        "final_paths = []\n",
        "final_texts = []\n",
        "\n",
        "data_folder = '/content/mjsynth_sample'\n",
        "for path in os.listdir(data_folder):\n",
        "\n",
        "\n",
        "    final_paths.append(data_folder + \"/\" + path)\n",
        "    final_texts.append(path.split(\"_\")[1])"
      ],
      "execution_count": null,
      "outputs": []
    },
    {
      "cell_type": "code",
      "metadata": {
        "colab": {
          "base_uri": "https://localhost:8080/"
        },
        "id": "0KPCunOl1YxZ",
        "outputId": "e1b536c1-d3c8-45f4-bff0-927028b2fafa"
      },
      "source": [
        "final_paths[:10], final_texts[:10]"
      ],
      "execution_count": null,
      "outputs": [
        {
          "output_type": "execute_result",
          "data": {
            "text/plain": [
              "(['/content/mjsynth_sample/389_CRISTINA_18150.jpg',\n",
              "  '/content/mjsynth_sample/86_redneck_63573.jpg',\n",
              "  '/content/mjsynth_sample/238_Prosecution_60718.jpg',\n",
              "  '/content/mjsynth_sample/26_uncloaking_81910.jpg',\n",
              "  '/content/mjsynth_sample/217_YUAN_87880.jpg',\n",
              "  '/content/mjsynth_sample/273_TANAGER_77411.jpg',\n",
              "  '/content/mjsynth_sample/198_FLIMFLAMMING_29562.jpg',\n",
              "  '/content/mjsynth_sample/435_skomsky_71383.jpg',\n",
              "  '/content/mjsynth_sample/148_INSURED_40004.jpg',\n",
              "  '/content/mjsynth_sample/281_BRICKING_9494.jpg'],\n",
              " ['CRISTINA',\n",
              "  'redneck',\n",
              "  'Prosecution',\n",
              "  'uncloaking',\n",
              "  'YUAN',\n",
              "  'TANAGER',\n",
              "  'FLIMFLAMMING',\n",
              "  'skomsky',\n",
              "  'INSURED',\n",
              "  'BRICKING'])"
            ]
          },
          "metadata": {
            "tags": []
          },
          "execution_count": 32
        }
      ]
    },
    {
      "cell_type": "code",
      "metadata": {
        "colab": {
          "base_uri": "https://localhost:8080/"
        },
        "id": "iS-D1_eO1b0x",
        "outputId": "5cd931ac-1b61-4a06-87ff-d214091dafa7"
      },
      "source": [
        "vocab = set(\"\".join(map(str, final_texts)))\n",
        "print(sorted(vocab))"
      ],
      "execution_count": null,
      "outputs": [
        {
          "output_type": "stream",
          "text": [
            "['0', '1', '2', '3', '4', '5', '6', '7', '8', '9', 'A', 'B', 'C', 'D', 'E', 'F', 'G', 'H', 'I', 'J', 'K', 'L', 'M', 'N', 'O', 'P', 'Q', 'R', 'S', 'T', 'U', 'V', 'W', 'X', 'Y', 'Z', 'a', 'b', 'c', 'd', 'e', 'f', 'g', 'h', 'i', 'j', 'k', 'l', 'm', 'n', 'o', 'p', 'q', 'r', 's', 't', 'u', 'v', 'w', 'x', 'y', 'z']\n"
          ],
          "name": "stdout"
        }
      ]
    },
    {
      "cell_type": "code",
      "metadata": {
        "colab": {
          "base_uri": "https://localhost:8080/"
        },
        "id": "ZFbhT0qb1gOb",
        "outputId": "8b9347fc-c755-409e-ffe3-e6aebfc215f5"
      },
      "source": [
        "\n",
        "Counter(\"\".join(map(str, final_texts)))"
      ],
      "execution_count": null,
      "outputs": [
        {
          "output_type": "execute_result",
          "data": {
            "text/plain": [
              "Counter({'0': 38,\n",
              "         '1': 56,\n",
              "         '2': 30,\n",
              "         '3': 21,\n",
              "         '4': 26,\n",
              "         '5': 16,\n",
              "         '6': 16,\n",
              "         '7': 15,\n",
              "         '8': 17,\n",
              "         '9': 10,\n",
              "         'A': 12188,\n",
              "         'B': 3874,\n",
              "         'C': 7202,\n",
              "         'D': 6379,\n",
              "         'E': 16729,\n",
              "         'F': 2799,\n",
              "         'G': 4768,\n",
              "         'H': 3898,\n",
              "         'I': 12696,\n",
              "         'J': 518,\n",
              "         'K': 1611,\n",
              "         'L': 7997,\n",
              "         'M': 4745,\n",
              "         'N': 10222,\n",
              "         'O': 8783,\n",
              "         'P': 5178,\n",
              "         'Q': 350,\n",
              "         'R': 11125,\n",
              "         'S': 14094,\n",
              "         'T': 10070,\n",
              "         'U': 4990,\n",
              "         'V': 1787,\n",
              "         'W': 1806,\n",
              "         'X': 428,\n",
              "         'Y': 2289,\n",
              "         'Z': 696,\n",
              "         'a': 21612,\n",
              "         'b': 4718,\n",
              "         'c': 10014,\n",
              "         'd': 9727,\n",
              "         'e': 31936,\n",
              "         'f': 3274,\n",
              "         'g': 8370,\n",
              "         'h': 6096,\n",
              "         'i': 24247,\n",
              "         'j': 453,\n",
              "         'k': 2761,\n",
              "         'l': 14693,\n",
              "         'm': 6928,\n",
              "         'n': 20242,\n",
              "         'o': 17329,\n",
              "         'p': 6905,\n",
              "         'q': 439,\n",
              "         'r': 19957,\n",
              "         's': 23114,\n",
              "         't': 18281,\n",
              "         'u': 9212,\n",
              "         'v': 2718,\n",
              "         'w': 2238,\n",
              "         'x': 818,\n",
              "         'y': 4643,\n",
              "         'z': 1340})"
            ]
          },
          "metadata": {
            "tags": []
          },
          "execution_count": 34
        }
      ]
    },
    {
      "cell_type": "code",
      "metadata": {
        "id": "Orqp4bsX1ha4"
      },
      "source": [
        "char_list = sorted(vocab)\n",
        "\n",
        "def encode_to_labels(txt):\n",
        "    # encoding each output word into digits\n",
        "    dig_lst = []\n",
        "    \n",
        "    for index, char in enumerate(txt):\n",
        "        try:\n",
        "            dig_lst.append(char_list.index(char))\n",
        "        except:\n",
        "            print(char)\n",
        "        \n",
        "    return dig_lst"
      ],
      "execution_count": null,
      "outputs": []
    },
    {
      "cell_type": "code",
      "metadata": {
        "id": "l9cNlLC_1suB"
      },
      "source": [
        "\n",
        "train_final_paths = final_paths[ : int(len(final_paths) * 0.90)]\n",
        "train_final_texts = final_texts[ : int(len(final_texts) * 0.90)]\n",
        "\n",
        "val_final_paths = final_paths[int(len(final_paths) * 0.90) : ]\n",
        "val_final_texts = final_texts[int(len(final_texts) * 0.90) : ]"
      ],
      "execution_count": null,
      "outputs": []
    },
    {
      "cell_type": "code",
      "metadata": {
        "colab": {
          "base_uri": "https://localhost:8080/"
        },
        "id": "_oe3zGnp1vaw",
        "outputId": "ea1b1c86-ec37-4891-da92-49ba58b0ce11"
      },
      "source": [
        "len(train_final_paths), len(val_final_paths)"
      ],
      "execution_count": null,
      "outputs": [
        {
          "output_type": "execute_result",
          "data": {
            "text/plain": [
              "(47427, 5270)"
            ]
          },
          "metadata": {
            "tags": []
          },
          "execution_count": 37
        }
      ]
    },
    {
      "cell_type": "code",
      "metadata": {
        "colab": {
          "base_uri": "https://localhost:8080/"
        },
        "id": "CfK5LfaY1yHP",
        "outputId": "6dbe464c-f51b-434d-a9a5-46822326288f"
      },
      "source": [
        "max_label_len = max([len(str(text)) for text in final_texts])\n",
        "print(max_label_len)"
      ],
      "execution_count": null,
      "outputs": [
        {
          "output_type": "stream",
          "text": [
            "23\n"
          ],
          "name": "stdout"
        }
      ]
    },
    {
      "cell_type": "code",
      "metadata": {
        "id": "ULVj82x210qe"
      },
      "source": [
        "class My_Generator(Sequence):\n",
        "    \n",
        "    def __init__(self, image_filenames, labels, batch_size):\n",
        "        self.image_filenames, self.labels = image_filenames, labels\n",
        "        self.batch_size = batch_size\n",
        "\n",
        "    def __len__(self):\n",
        "        return int(np.ceil(len(self.image_filenames) / float(self.batch_size)))\n",
        "\n",
        "    def __getitem__(self, idx):\n",
        "        \n",
        "        batch_paths = self.image_filenames[idx * self.batch_size:(idx + 1) * self.batch_size]\n",
        "        batch_texts = self.labels[idx * self.batch_size:(idx + 1) * self.batch_size]\n",
        "        \n",
        "        images = []\n",
        "        training_txt = []\n",
        "        train_label_length = []\n",
        "        train_input_length = []\n",
        "\n",
        "        for im_path, text in zip(batch_paths, batch_texts):\n",
        "            \n",
        "            try:\n",
        "                text = str(text).strip()\n",
        "                img = cv2.cvtColor(cv2.imread(im_path), cv2.COLOR_BGR2GRAY)   \n",
        "\n",
        "                ### actually returns h, w\n",
        "                h, w = img.shape\n",
        "\n",
        "                ### if height less than 32\n",
        "                if h < 32:\n",
        "                    add_zeros = np.ones((32-h, w)) * 255\n",
        "                    img = np.concatenate((img, add_zeros))\n",
        "                    h = 32\n",
        "\n",
        "                ## if width less than 128\n",
        "                if w < 128:\n",
        "                    add_zeros = np.ones((h, 128-w)) * 255\n",
        "                    img = np.concatenate((img, add_zeros), axis=1)\n",
        "                    w = 128\n",
        "\n",
        "                ### if width is greater than 128 or height greater than 32\n",
        "                if w > 128 or h > 32:\n",
        "                    img = cv2.resize(img, (128, 32))\n",
        "\n",
        "                img = np.expand_dims(img , axis = 2)\n",
        "\n",
        "                # Normalize each image\n",
        "                img = img / 255.\n",
        "\n",
        "                images.append(img)\n",
        "                training_txt.append(encode_to_labels(text))\n",
        "                train_label_length.append(len(text))\n",
        "                train_input_length.append(31)\n",
        "            except:\n",
        "                \n",
        "                pass\n",
        "\n",
        "        return [np.array(images), \n",
        "               pad_sequences(training_txt, maxlen=max_label_len, padding='post', value=len(char_list)), \n",
        "               np.array(train_input_length), \n",
        "               np.array(train_label_length)], np.zeros(len(images))\n"
      ],
      "execution_count": null,
      "outputs": []
    },
    {
      "cell_type": "code",
      "metadata": {
        "id": "txoW6_zu13hz"
      },
      "source": [
        "batch_size = 256\n",
        "train_generator = My_Generator(train_final_paths, train_final_texts, batch_size)\n",
        "val_generator = My_Generator(val_final_paths, val_final_texts, batch_size)"
      ],
      "execution_count": null,
      "outputs": []
    },
    {
      "cell_type": "code",
      "metadata": {
        "id": "0SuFfBe615vr"
      },
      "source": [
        "# input with shape of height=32 and width=128 \n",
        "inputs = Input(shape=(32, 128, 1))\n",
        "\n",
        "conv_1 = Conv2D(16, (3,3), activation = 'relu', padding='same')(inputs)\n",
        "pool_1 = MaxPool2D(pool_size=(2, 2), strides=2)(conv_1)\n",
        " \n",
        "conv_2 = Conv2D(32, (3,3), activation = 'relu', padding='same')(pool_1)\n",
        "pool_2 = MaxPool2D(pool_size=(2, 2), strides=2)(conv_2)\n",
        "\n",
        "conv_4 = Conv2D(64, (3,3), activation = 'relu', padding='same')(pool_2)\n",
        "pool_4 = MaxPool2D(pool_size=(2, 1))(conv_4)\n",
        " \n",
        "\n",
        "# Batch normalization layer\n",
        "batch_norm_4 = BatchNormalization()(pool_4)\n",
        " \n",
        "conv_6 = Conv2D(64, (3,3), activation = 'relu', padding='same')(batch_norm_4)\n",
        "batch_norm_6 = BatchNormalization()(conv_6)\n",
        "pool_6 = MaxPool2D(pool_size=(2, 1))(batch_norm_6)\n",
        " \n",
        "conv_7 = Conv2D(64, (2,2), activation = 'relu')(pool_6)\n",
        " \n",
        "squeezed = Lambda(lambda x: K.squeeze(x, 1))(conv_7)\n",
        " \n",
        "# bidirectional LSTM layers with units=128\n",
        "blstm_1 = Bidirectional(CuDNNLSTM(128, return_sequences=True))(squeezed)\n",
        "blstm_2 = Bidirectional(CuDNNLSTM(128, return_sequences=True))(blstm_1)\n",
        "\n",
        "outputs = Dense(len(char_list) + 1, activation = 'softmax')(blstm_2)\n",
        "\n",
        "# model to be used at test time\n",
        "reco_text_model = Model(inputs, outputs)"
      ],
      "execution_count": null,
      "outputs": []
    },
    {
      "cell_type": "code",
      "metadata": {
        "colab": {
          "base_uri": "https://localhost:8080/"
        },
        "id": "7vQNnjnn2tCi",
        "outputId": "0e6c56d3-1cdc-48fc-87d9-b389c1801ee8"
      },
      "source": [
        "reco_text_model.summary()"
      ],
      "execution_count": null,
      "outputs": [
        {
          "output_type": "stream",
          "text": [
            "Model: \"model_4\"\n",
            "_________________________________________________________________\n",
            "Layer (type)                 Output Shape              Param #   \n",
            "=================================================================\n",
            "input_6 (InputLayer)         [(None, 32, 128, 1)]      0         \n",
            "_________________________________________________________________\n",
            "conv2d_31 (Conv2D)           (None, 32, 128, 16)       160       \n",
            "_________________________________________________________________\n",
            "max_pooling2d_18 (MaxPooling (None, 16, 64, 16)        0         \n",
            "_________________________________________________________________\n",
            "conv2d_32 (Conv2D)           (None, 16, 64, 32)        4640      \n",
            "_________________________________________________________________\n",
            "max_pooling2d_19 (MaxPooling (None, 8, 32, 32)         0         \n",
            "_________________________________________________________________\n",
            "conv2d_33 (Conv2D)           (None, 8, 32, 64)         18496     \n",
            "_________________________________________________________________\n",
            "max_pooling2d_20 (MaxPooling (None, 4, 32, 64)         0         \n",
            "_________________________________________________________________\n",
            "conv2d_34 (Conv2D)           (None, 4, 32, 64)         36928     \n",
            "_________________________________________________________________\n",
            "batch_normalization_8 (Batch (None, 4, 32, 64)         256       \n",
            "_________________________________________________________________\n",
            "conv2d_35 (Conv2D)           (None, 4, 32, 64)         36928     \n",
            "_________________________________________________________________\n",
            "batch_normalization_9 (Batch (None, 4, 32, 64)         256       \n",
            "_________________________________________________________________\n",
            "max_pooling2d_21 (MaxPooling (None, 2, 32, 64)         0         \n",
            "_________________________________________________________________\n",
            "conv2d_36 (Conv2D)           (None, 1, 31, 64)         16448     \n",
            "_________________________________________________________________\n",
            "lambda_5 (Lambda)            (None, 31, 64)            0         \n",
            "_________________________________________________________________\n",
            "bidirectional_6 (Bidirection (None, 31, 256)           198656    \n",
            "_________________________________________________________________\n",
            "bidirectional_7 (Bidirection (None, 31, 256)           395264    \n",
            "_________________________________________________________________\n",
            "dense_3 (Dense)              (None, 31, 63)            16191     \n",
            "=================================================================\n",
            "Total params: 724,223\n",
            "Trainable params: 723,967\n",
            "Non-trainable params: 256\n",
            "_________________________________________________________________\n"
          ],
          "name": "stdout"
        }
      ]
    },
    {
      "cell_type": "code",
      "metadata": {
        "id": "lDEuWrJ82uv5"
      },
      "source": [
        "labels = Input(name='the_labels', shape=[max_label_len], dtype='float32')\n",
        "input_length = Input(name='input_length', shape=[1], dtype='int64')\n",
        "label_length = Input(name='label_length', shape=[1], dtype='int64')\n",
        "\n",
        "def ctc_lambda_func(args):\n",
        "    y_pred, labels, input_length, label_length = args \n",
        "    return K.ctc_batch_cost(labels, y_pred, input_length, label_length)\n",
        " \n",
        "loss_out = Lambda(ctc_lambda_func, \n",
        "                  output_shape=(1,), \n",
        "                  name='ctc')([outputs, labels, input_length, label_length])\n",
        "\n",
        "#model to be used at training time\n",
        "model = Model(inputs=[inputs, labels, input_length, label_length], outputs=loss_out)"
      ],
      "execution_count": null,
      "outputs": []
    },
    {
      "cell_type": "code",
      "metadata": {
        "id": "mUZGycX72xT2"
      },
      "source": [
        "file_path = \"text_reco_model_july4th.hdf5\"\n",
        "\n",
        "model.compile(loss={'ctc': lambda y_true, y_pred: y_pred}, optimizer = 'rmsprop')\n",
        "\n",
        "\n",
        "checkpoint = ModelCheckpoint(filepath=file_path, \n",
        "                             monitor='val_loss', \n",
        "                             verbose=1, \n",
        "                             save_best_only=True, \n",
        "                             mode='min')\n",
        "\n",
        "callbacks_list = [checkpoint]"
      ],
      "execution_count": null,
      "outputs": []
    },
    {
      "cell_type": "code",
      "metadata": {
        "colab": {
          "base_uri": "https://localhost:8080/"
        },
        "id": "Uv_5jSfE2-__",
        "outputId": "d9f4e5a2-c90d-4507-d1bb-0f47efbeeee6"
      },
      "source": [
        "epochs = 25\n",
        "\n",
        "history = model.fit(train_generator, \n",
        "                    epochs = epochs,\n",
        "                    steps_per_epoch = len(train_final_paths) // batch_size,\n",
        "                    validation_data=val_generator,\n",
        "                    validation_steps = len(val_final_paths) // batch_size,\n",
        "                    verbose = 0,\n",
        "                    callbacks = callbacks_list,\n",
        "                    shuffle=True)"
      ],
      "execution_count": null,
      "outputs": [
        {
          "output_type": "stream",
          "text": [
            "\n",
            "Epoch 00001: val_loss improved from inf to 34.18859, saving model to text_reco_model_july4th.hdf5\n",
            "\n",
            "Epoch 00002: val_loss improved from 34.18859 to 30.70691, saving model to text_reco_model_july4th.hdf5\n",
            "\n",
            "Epoch 00003: val_loss improved from 30.70691 to 24.83849, saving model to text_reco_model_july4th.hdf5\n",
            "\n",
            "Epoch 00004: val_loss improved from 24.83849 to 13.89176, saving model to text_reco_model_july4th.hdf5\n",
            "\n",
            "Epoch 00005: val_loss improved from 13.89176 to 11.07014, saving model to text_reco_model_july4th.hdf5\n",
            "\n",
            "Epoch 00006: val_loss improved from 11.07014 to 8.95424, saving model to text_reco_model_july4th.hdf5\n",
            "\n",
            "Epoch 00007: val_loss improved from 8.95424 to 7.47551, saving model to text_reco_model_july4th.hdf5\n",
            "\n",
            "Epoch 00008: val_loss improved from 7.47551 to 6.67116, saving model to text_reco_model_july4th.hdf5\n",
            "\n",
            "Epoch 00009: val_loss improved from 6.67116 to 6.11711, saving model to text_reco_model_july4th.hdf5\n",
            "\n",
            "Epoch 00010: val_loss did not improve from 6.11711\n",
            "\n",
            "Epoch 00011: val_loss improved from 6.11711 to 5.63997, saving model to text_reco_model_july4th.hdf5\n",
            "\n",
            "Epoch 00012: val_loss did not improve from 5.63997\n",
            "\n",
            "Epoch 00013: val_loss improved from 5.63997 to 5.56240, saving model to text_reco_model_july4th.hdf5\n",
            "\n",
            "Epoch 00014: val_loss improved from 5.56240 to 5.32955, saving model to text_reco_model_july4th.hdf5\n",
            "\n",
            "Epoch 00015: val_loss did not improve from 5.32955\n",
            "\n",
            "Epoch 00016: val_loss did not improve from 5.32955\n",
            "\n",
            "Epoch 00017: val_loss did not improve from 5.32955\n",
            "\n",
            "Epoch 00018: val_loss did not improve from 5.32955\n",
            "\n",
            "Epoch 00019: val_loss did not improve from 5.32955\n",
            "\n",
            "Epoch 00020: val_loss did not improve from 5.32955\n",
            "\n",
            "Epoch 00021: val_loss did not improve from 5.32955\n",
            "\n",
            "Epoch 00022: val_loss did not improve from 5.32955\n",
            "\n",
            "Epoch 00023: val_loss did not improve from 5.32955\n",
            "\n",
            "Epoch 00024: val_loss did not improve from 5.32955\n",
            "\n",
            "Epoch 00025: val_loss did not improve from 5.32955\n"
          ],
          "name": "stdout"
        }
      ]
    },
    {
      "cell_type": "code",
      "metadata": {
        "colab": {
          "base_uri": "https://localhost:8080/",
          "height": 295
        },
        "id": "00p5qsa83Jtf",
        "outputId": "e2426e7f-d48b-4b40-dae6-3ee8e55bb5a8"
      },
      "source": [
        "plt.plot(history.history['loss'])\n",
        "plt.plot(history.history['val_loss'])\n",
        "plt.title('model loss')\n",
        "plt.ylabel('loss')\n",
        "plt.xlabel('epoch')\n",
        "plt.legend(['train', 'test'], loc='upper left')\n",
        "plt.show()"
      ],
      "execution_count": null,
      "outputs": [
        {
          "output_type": "display_data",
          "data": {
            "image/png": "[encoded data removed]",
            "text/plain": [
              "<Figure size 432x288 with 1 Axes>"
            ]
          },
          "metadata": {
            "tags": [],
            "needs_background": "light"
          }
        }
      ]
    },
    {
      "cell_type": "code",
      "metadata": {
        "id": "xR0r71G93KbX"
      },
      "source": [
        "def pre_process_image(path):\n",
        "    \n",
        "    img = cv2.cvtColor(cv2.imread(path), cv2.COLOR_BGR2GRAY)\n",
        "    ### actually returns h, w\n",
        "    h, w = img.shape\n",
        "\n",
        "    ### if height less than 32\n",
        "    if h < 32:\n",
        "        add_zeros = np.ones((32-h, w)) * 255\n",
        "        img = np.concatenate((img, add_zeros))\n",
        "        h = 32\n",
        "\n",
        "    ## if width less than 128\n",
        "    if w < 128:\n",
        "        add_zeros = np.ones((h, 128-w)) * 255\n",
        "        img = np.concatenate((img, add_zeros), axis=1)\n",
        "        w = 128\n",
        "\n",
        "    ### if width is greater than 128 or height greater than 32\n",
        "    if w > 128 or h > 32:\n",
        "        img = cv2.resize(img, (128, 32))\n",
        "\n",
        "    \n",
        "    img = np.expand_dims(img , axis = 2)\n",
        "\n",
        "    # Normalize each image\n",
        "    img = img / 255.\n",
        "    \n",
        "    return img"
      ],
      "execution_count": null,
      "outputs": []
    },
    {
      "cell_type": "code",
      "metadata": {
        "id": "a_TeATu73NK_"
      },
      "source": [
        "reco_text_model.load_weights('/content/text_reco_model_july4th.hdf5')"
      ],
      "execution_count": null,
      "outputs": []
    },
    {
      "cell_type": "code",
      "metadata": {
        "id": "xmqRa23J3Wsv"
      },
      "source": [
        "\n",
        "def predict_output(img):\n",
        "    # predict outputs on validation images\n",
        "    prediction = reco_text_model.predict(np.array([img]))\n",
        "    ## shape (batch_size, num_timesteps, vocab_size)\n",
        "\n",
        "    # use CTC decoder\n",
        "    out = K.get_value(K.ctc_decode(prediction, \n",
        "                                   input_length=np.ones(prediction.shape[0]) * prediction.shape[1],\n",
        "                                   greedy=True)[0][0])\n",
        "\n",
        "    ## get the final text    \n",
        "    for x in out:\n",
        "\n",
        "        print(\"predicted text = \", end = '')\n",
        "\n",
        "        for p in x:\n",
        "\n",
        "            if int(p) != -1:\n",
        "                print(char_list[int(p)], end = '')\n",
        "        \n",
        "        print('\\n')"
      ],
      "execution_count": null,
      "outputs": []
    },
    {
      "cell_type": "code",
      "metadata": {
        "colab": {
          "base_uri": "https://localhost:8080/",
          "height": 1000
        },
        "id": "RboA7zI83aT9",
        "outputId": "ba4b96e5-cf93-4312-bbff-290ed66c63ae"
      },
      "source": [
        "from IPython.display import display\n",
        "from random import randrange\n",
        "\n",
        "for i in range(10):\n",
        "    index = randrange(len(val_final_paths))\n",
        "    im = Image.open(val_final_paths[index])\n",
        "    display(im)\n",
        "\n",
        "    print(\"\\n\")\n",
        "\n",
        "    test_img = pre_process_image(val_final_paths[index])\n",
        "    predict_output(test_img)"
      ],
      "execution_count": null,
      "outputs": [
        {
          "output_type": "display_data",
          "data": {
            "image/png": "[encoded data removed]",
            "text/plain": [
              "<PIL.JpegImagePlugin.JpegImageFile image mode=RGB size=164x31 at 0x7F0FE06448D0>"
            ]
          },
          "metadata": {
            "tags": []
          }
        },
        {
          "output_type": "stream",
          "text": [
            "\n",
            "\n",
            "predicted text = EQUATING\n",
            "\n"
          ],
          "name": "stdout"
        },
        {
          "output_type": "display_data",
          "data": {
            "image/png": "[encoded data removed]",
            "text/plain": [
              "<PIL.JpegImagePlugin.JpegImageFile image mode=RGB size=136x31 at 0x7F104978B190>"
            ]
          },
          "metadata": {
            "tags": []
          }
        },
        {
          "output_type": "stream",
          "text": [
            "\n",
            "\n",
            "predicted text = FEsterS\n",
            "\n"
          ],
          "name": "stdout"
        },
        {
          "output_type": "display_data",
          "data": {
            "image/png": "[encoded data removed]",
            "text/plain": [
              "<PIL.JpegImagePlugin.JpegImageFile image mode=RGB size=115x31 at 0x7F1048C82090>"
            ]
          },
          "metadata": {
            "tags": []
          }
        },
        {
          "output_type": "stream",
          "text": [
            "\n",
            "\n",
            "predicted text = sufism\n",
            "\n"
          ],
          "name": "stdout"
        },
        {
          "output_type": "display_data",
          "data": {
            "image/png": "[encoded data removed]",
            "text/plain": [
              "<PIL.JpegImagePlugin.JpegImageFile image mode=RGB size=124x31 at 0x7F1049655790>"
            ]
          },
          "metadata": {
            "tags": []
          }
        },
        {
          "output_type": "stream",
          "text": [
            "\n",
            "\n",
            "predicted text = RENOWLLY\n",
            "\n"
          ],
          "name": "stdout"
        },
        {
          "output_type": "display_data",
          "data": {
            "image/png": "[encoded data removed]",
            "text/plain": [
              "<PIL.JpegImagePlugin.JpegImageFile image mode=RGB size=185x31 at 0x7F104840D390>"
            ]
          },
          "metadata": {
            "tags": []
          }
        },
        {
          "output_type": "stream",
          "text": [
            "\n",
            "\n",
            "predicted text = pilgrimages\n",
            "\n"
          ],
          "name": "stdout"
        },
        {
          "output_type": "display_data",
          "data": {
            "image/png": "[encoded data removed]",
            "text/plain": [
              "<PIL.JpegImagePlugin.JpegImageFile image mode=RGB size=156x31 at 0x7F1048EBBDD0>"
            ]
          },
          "metadata": {
            "tags": []
          }
        },
        {
          "output_type": "stream",
          "text": [
            "\n",
            "\n",
            "predicted text = MILKSHAKC\n",
            "\n"
          ],
          "name": "stdout"
        },
        {
          "output_type": "display_data",
          "data": {
            "image/png": "[encoded data removed]",
            "text/plain": [
              "<PIL.JpegImagePlugin.JpegImageFile image mode=RGB size=235x31 at 0x7F104967E690>"
            ]
          },
          "metadata": {
            "tags": []
          }
        },
        {
          "output_type": "stream",
          "text": [
            "\n",
            "\n",
            "predicted text = Televangeist\n",
            "\n"
          ],
          "name": "stdout"
        },
        {
          "output_type": "display_data",
          "data": {
            "image/png": "[encoded data removed]",
            "text/plain": [
              "<PIL.JpegImagePlugin.JpegImageFile image mode=RGB size=263x31 at 0x7F1048ECD810>"
            ]
          },
          "metadata": {
            "tags": []
          }
        },
        {
          "output_type": "stream",
          "text": [
            "\n",
            "\n",
            "predicted text = CONFUCIANISNS\n",
            "\n"
          ],
          "name": "stdout"
        },
        {
          "output_type": "display_data",
          "data": {
            "image/png": "[encoded data removed]",
            "text/plain": [
              "<PIL.JpegImagePlugin.JpegImageFile image mode=RGB size=108x31 at 0x7F1048486410>"
            ]
          },
          "metadata": {
            "tags": []
          }
        },
        {
          "output_type": "stream",
          "text": [
            "\n",
            "\n",
            "predicted text = brewster\n",
            "\n"
          ],
          "name": "stdout"
        },
        {
          "output_type": "display_data",
          "data": {
            "image/png": "[encoded data removed]",
            "text/plain": [
              "<PIL.JpegImagePlugin.JpegImageFile image mode=RGB size=58x31 at 0x7F10496BB990>"
            ]
          },
          "metadata": {
            "tags": []
          }
        },
        {
          "output_type": "stream",
          "text": [
            "\n",
            "\n",
            "predicted text = whop\n",
            "\n"
          ],
          "name": "stdout"
        }
      ]
    }
  ]
}