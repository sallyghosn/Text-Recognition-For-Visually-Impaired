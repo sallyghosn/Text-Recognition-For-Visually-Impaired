{
  "nbformat": 4,
  "nbformat_minor": 0,
  "metadata": {
    "colab": {
      "name": "Text_reco_2July_second_try, batch size+batchNorm.ipynb",
      "provenance": [],
      "collapsed_sections": []
    },
    "kernelspec": {
      "name": "python3",
      "display_name": "Python 3"
    },
    "language_info": {
      "name": "python"
    },
    "accelerator": "GPU"
  },
  "cells": [
    {
      "cell_type": "code",
      "metadata": {
        "id": "MU7GmMPiKtu5"
      },
      "source": [
        "import os\n",
        "import cv2\n",
        "import numpy as np\n",
        "import string\n",
        "import time\n",
        "import pandas as pd\n",
        "import tensorflow as tf\n",
        "import matplotlib.pyplot as plt\n",
        "\n",
        "import tensorflow.keras.backend as K\n",
        "from tensorflow.keras.preprocessing.sequence import pad_sequences\n",
        "\n",
        "from tensorflow.keras.layers import Dense, Reshape, BatchNormalization, Input, Conv2D, MaxPool2D, Lambda, Bidirectional\n",
        "\n",
        "from tensorflow.compat.v1.keras.layers import CuDNNLSTM\n",
        "from tensorflow.keras.models import Model\n",
        "from tensorflow.keras.activations import relu, sigmoid, softmax\n",
        "\n",
        "from tensorflow.keras.utils import to_categorical, Sequence\n",
        "from tensorflow.keras.callbacks import ModelCheckpoint\n",
        "from tqdm import tqdm\n",
        "from collections import Counter\n",
        "\n",
        "from PIL import Image"
      ],
      "execution_count": null,
      "outputs": []
    },
    {
      "cell_type": "code",
      "metadata": {
        "id": "64_7ImwLKwuJ",
        "colab": {
          "base_uri": "https://localhost:8080/"
        },
        "outputId": "dd117194-97eb-4c01-deb2-9acfe052e603"
      },
      "source": [
        "!unzip -qq /content/drive/MyDrive/mjsynth_sample.zip"
      ],
      "execution_count": null,
      "outputs": [
        {
          "output_type": "stream",
          "text": [
            "replace mjsynth_sample/182_slinking_71711.jpg? [y]es, [n]o, [A]ll, [N]one, [r]ename: A\n"
          ],
          "name": "stdout"
        }
      ]
    },
    {
      "cell_type": "code",
      "metadata": {
        "id": "F5y2Hlb_K_l9"
      },
      "source": [
        "\n",
        "final_paths = []\n",
        "final_texts = []\n",
        "\n",
        "data_folder = '/content/mjsynth_sample'\n",
        "for path in os.listdir(data_folder):\n",
        "\n",
        "\n",
        "    final_paths.append(data_folder + \"/\" + path)\n",
        "    final_texts.append(path.split(\"_\")[1])"
      ],
      "execution_count": null,
      "outputs": []
    },
    {
      "cell_type": "code",
      "metadata": {
        "colab": {
          "base_uri": "https://localhost:8080/"
        },
        "id": "TX1iiFNBLDTq",
        "outputId": "2d94e980-8118-495e-a07e-7ba728b7b74d"
      },
      "source": [
        "final_paths[:10], final_texts[:10]"
      ],
      "execution_count": null,
      "outputs": [
        {
          "output_type": "execute_result",
          "data": {
            "text/plain": [
              "(['/content/mjsynth_sample/176_Nonsensically_52154.jpg',\n",
              "  '/content/mjsynth_sample/14_IMITATIVE_38058.jpg',\n",
              "  '/content/mjsynth_sample/61_Gullible_34200.jpg',\n",
              "  '/content/mjsynth_sample/279_psychical_61001.jpg',\n",
              "  '/content/mjsynth_sample/86_Gaggles_31504.jpg',\n",
              "  '/content/mjsynth_sample/447_nebraskans_51120.jpg',\n",
              "  '/content/mjsynth_sample/361_Mildly_48384.jpg',\n",
              "  '/content/mjsynth_sample/316_cleanses_14048.jpg',\n",
              "  '/content/mjsynth_sample/174_CARJACKERS_11595.jpg',\n",
              "  '/content/mjsynth_sample/332_samaritans_67582.jpg'],\n",
              " ['Nonsensically',\n",
              "  'IMITATIVE',\n",
              "  'Gullible',\n",
              "  'psychical',\n",
              "  'Gaggles',\n",
              "  'nebraskans',\n",
              "  'Mildly',\n",
              "  'cleanses',\n",
              "  'CARJACKERS',\n",
              "  'samaritans'])"
            ]
          },
          "metadata": {
            "tags": []
          },
          "execution_count": 6
        }
      ]
    },
    {
      "cell_type": "code",
      "metadata": {
        "colab": {
          "base_uri": "https://localhost:8080/"
        },
        "id": "WwHMIAc7LF89",
        "outputId": "e2f05291-4df4-4bc9-d35d-ad4002c63187"
      },
      "source": [
        "vocab = set(\"\".join(map(str, final_texts)))\n",
        "print(sorted(vocab))"
      ],
      "execution_count": null,
      "outputs": [
        {
          "output_type": "stream",
          "text": [
            "['0', '1', '2', '3', '4', '5', '6', '7', '8', '9', 'A', 'B', 'C', 'D', 'E', 'F', 'G', 'H', 'I', 'J', 'K', 'L', 'M', 'N', 'O', 'P', 'Q', 'R', 'S', 'T', 'U', 'V', 'W', 'X', 'Y', 'Z', 'a', 'b', 'c', 'd', 'e', 'f', 'g', 'h', 'i', 'j', 'k', 'l', 'm', 'n', 'o', 'p', 'q', 'r', 's', 't', 'u', 'v', 'w', 'x', 'y', 'z']\n"
          ],
          "name": "stdout"
        }
      ]
    },
    {
      "cell_type": "code",
      "metadata": {
        "colab": {
          "base_uri": "https://localhost:8080/"
        },
        "id": "-8xwvngkLIwX",
        "outputId": "392b9160-72e0-4ae5-c2f6-7af11be26637"
      },
      "source": [
        "\n",
        "Counter(\"\".join(map(str, final_texts)))"
      ],
      "execution_count": null,
      "outputs": [
        {
          "output_type": "execute_result",
          "data": {
            "text/plain": [
              "Counter({'0': 38,\n",
              "         '1': 56,\n",
              "         '2': 30,\n",
              "         '3': 21,\n",
              "         '4': 26,\n",
              "         '5': 16,\n",
              "         '6': 16,\n",
              "         '7': 15,\n",
              "         '8': 17,\n",
              "         '9': 10,\n",
              "         'A': 12188,\n",
              "         'B': 3874,\n",
              "         'C': 7202,\n",
              "         'D': 6379,\n",
              "         'E': 16729,\n",
              "         'F': 2799,\n",
              "         'G': 4768,\n",
              "         'H': 3898,\n",
              "         'I': 12696,\n",
              "         'J': 518,\n",
              "         'K': 1611,\n",
              "         'L': 7997,\n",
              "         'M': 4745,\n",
              "         'N': 10222,\n",
              "         'O': 8783,\n",
              "         'P': 5178,\n",
              "         'Q': 350,\n",
              "         'R': 11125,\n",
              "         'S': 14094,\n",
              "         'T': 10070,\n",
              "         'U': 4990,\n",
              "         'V': 1787,\n",
              "         'W': 1806,\n",
              "         'X': 428,\n",
              "         'Y': 2289,\n",
              "         'Z': 696,\n",
              "         'a': 21612,\n",
              "         'b': 4718,\n",
              "         'c': 10014,\n",
              "         'd': 9727,\n",
              "         'e': 31936,\n",
              "         'f': 3274,\n",
              "         'g': 8370,\n",
              "         'h': 6096,\n",
              "         'i': 24247,\n",
              "         'j': 453,\n",
              "         'k': 2761,\n",
              "         'l': 14693,\n",
              "         'm': 6928,\n",
              "         'n': 20242,\n",
              "         'o': 17329,\n",
              "         'p': 6905,\n",
              "         'q': 439,\n",
              "         'r': 19957,\n",
              "         's': 23114,\n",
              "         't': 18281,\n",
              "         'u': 9212,\n",
              "         'v': 2718,\n",
              "         'w': 2238,\n",
              "         'x': 818,\n",
              "         'y': 4643,\n",
              "         'z': 1340})"
            ]
          },
          "metadata": {
            "tags": []
          },
          "execution_count": 8
        }
      ]
    },
    {
      "cell_type": "code",
      "metadata": {
        "id": "P-klwiydLM8r"
      },
      "source": [
        "char_list = sorted(vocab)\n",
        "\n",
        "def encode_to_labels(txt):\n",
        "    # encoding each output word into digits\n",
        "    dig_lst = []\n",
        "    \n",
        "    for index, char in enumerate(txt):\n",
        "        try:\n",
        "            dig_lst.append(char_list.index(char))\n",
        "        except:\n",
        "            print(char)\n",
        "        \n",
        "    return dig_lst"
      ],
      "execution_count": null,
      "outputs": []
    },
    {
      "cell_type": "code",
      "metadata": {
        "id": "E1rH-w9ILPMD"
      },
      "source": [
        "\n",
        "train_final_paths = final_paths[ : int(len(final_paths) * 0.90)]\n",
        "train_final_texts = final_texts[ : int(len(final_texts) * 0.90)]\n",
        "\n",
        "val_final_paths = final_paths[int(len(final_paths) * 0.90) : ]\n",
        "val_final_texts = final_texts[int(len(final_texts) * 0.90) : ]"
      ],
      "execution_count": null,
      "outputs": []
    },
    {
      "cell_type": "code",
      "metadata": {
        "colab": {
          "base_uri": "https://localhost:8080/"
        },
        "id": "Qi7z_zoaLRhX",
        "outputId": "9c0b43e3-a67d-43a5-db83-b25436ff970b"
      },
      "source": [
        "len(train_final_paths), len(val_final_paths)"
      ],
      "execution_count": null,
      "outputs": [
        {
          "output_type": "execute_result",
          "data": {
            "text/plain": [
              "(47427, 5270)"
            ]
          },
          "metadata": {
            "tags": []
          },
          "execution_count": 11
        }
      ]
    },
    {
      "cell_type": "code",
      "metadata": {
        "colab": {
          "base_uri": "https://localhost:8080/"
        },
        "id": "BN0EjkifLSkI",
        "outputId": "43f90b28-cbd3-4286-9f4f-efa71d59df1b"
      },
      "source": [
        "max_label_len = max([len(str(text)) for text in final_texts])\n",
        "print(max_label_len)"
      ],
      "execution_count": null,
      "outputs": [
        {
          "output_type": "stream",
          "text": [
            "23\n"
          ],
          "name": "stdout"
        }
      ]
    },
    {
      "cell_type": "code",
      "metadata": {
        "id": "BXFdEYszLVNx"
      },
      "source": [
        "class My_Generator(Sequence):\n",
        "    \n",
        "    def __init__(self, image_filenames, labels, batch_size):\n",
        "        self.image_filenames, self.labels = image_filenames, labels\n",
        "        self.batch_size = batch_size\n",
        "\n",
        "    def __len__(self):\n",
        "        return int(np.ceil(len(self.image_filenames) / float(self.batch_size)))\n",
        "\n",
        "    def __getitem__(self, idx):\n",
        "        \n",
        "        batch_paths = self.image_filenames[idx * self.batch_size:(idx + 1) * self.batch_size]\n",
        "        batch_texts = self.labels[idx * self.batch_size:(idx + 1) * self.batch_size]\n",
        "        \n",
        "        images = []\n",
        "        training_txt = []\n",
        "        train_label_length = []\n",
        "        train_input_length = []\n",
        "\n",
        "        for im_path, text in zip(batch_paths, batch_texts):\n",
        "            \n",
        "            try:\n",
        "                text = str(text).strip()\n",
        "                img = cv2.cvtColor(cv2.imread(im_path), cv2.COLOR_BGR2GRAY)   \n",
        "\n",
        "                ### actually returns h, w\n",
        "                h, w = img.shape\n",
        "\n",
        "                ### if height less than 32\n",
        "                if h < 32:\n",
        "                    add_zeros = np.ones((32-h, w)) * 255\n",
        "                    img = np.concatenate((img, add_zeros))\n",
        "                    h = 32\n",
        "\n",
        "                ## if width less than 128\n",
        "                if w < 128:\n",
        "                    add_zeros = np.ones((h, 128-w)) * 255\n",
        "                    img = np.concatenate((img, add_zeros), axis=1)\n",
        "                    w = 128\n",
        "\n",
        "                ### if width is greater than 128 or height greater than 32\n",
        "                if w > 128 or h > 32:\n",
        "                    img = cv2.resize(img, (128, 32))\n",
        "\n",
        "                img = np.expand_dims(img , axis = 2)\n",
        "\n",
        "                # Normalize each image\n",
        "                img = img / 255.\n",
        "\n",
        "                images.append(img)\n",
        "                training_txt.append(encode_to_labels(text))\n",
        "                train_label_length.append(len(text))\n",
        "                train_input_length.append(31)\n",
        "            except:\n",
        "                \n",
        "                pass\n",
        "\n",
        "        return [np.array(images), \n",
        "               pad_sequences(training_txt, maxlen=max_label_len, padding='post', value=len(char_list)), \n",
        "               np.array(train_input_length), \n",
        "               np.array(train_label_length)], np.zeros(len(images))\n"
      ],
      "execution_count": null,
      "outputs": []
    },
    {
      "cell_type": "code",
      "metadata": {
        "id": "ql0W0_J2LXsD"
      },
      "source": [
        "batch_size = 128\n",
        "train_generator = My_Generator(train_final_paths, train_final_texts, batch_size)\n",
        "val_generator = My_Generator(val_final_paths, val_final_texts, batch_size)"
      ],
      "execution_count": null,
      "outputs": []
    },
    {
      "cell_type": "code",
      "metadata": {
        "id": "qHt-Q_9ULaaz"
      },
      "source": [
        "# input with shape of height=32 and width=128 \n",
        "inputs = Input(shape=(32, 128, 1))\n",
        "\n",
        "conv_1 = Conv2D(16, (3,3), activation = 'relu', padding='same')(inputs)\n",
        "pool_1 = MaxPool2D(pool_size=(2, 2), strides=2)(conv_1)\n",
        " \n",
        "conv_2 = Conv2D(32, (3,3), activation = 'relu', padding='same')(pool_1)\n",
        "pool_2 = MaxPool2D(pool_size=(2, 2), strides=2)(conv_2)\n",
        "batch_norm_5 = BatchNormalization()(conv_2)\n",
        "\n",
        "conv_3 = Conv2D(64, (3,3), activation = 'relu', padding='same')(pool_2)\n",
        "conv_4 = Conv2D(64, (3,3), activation = 'relu', padding='same')(conv_3)\n",
        "pool_4 = MaxPool2D(pool_size=(2, 1))(conv_4)\n",
        " \n",
        "conv_5 = Conv2D(64, (3,3), activation = 'relu', padding='same')(pool_4)\n",
        "# Batch normalization layer\n",
        "batch_norm_5 = BatchNormalization()(conv_5)\n",
        " \n",
        "conv_6 = Conv2D(64, (3,3), activation = 'relu', padding='same')(batch_norm_5)\n",
        "batch_norm_6 = BatchNormalization()(conv_6)\n",
        "pool_6 = MaxPool2D(pool_size=(2, 1))(batch_norm_6)\n",
        " \n",
        "conv_7 = Conv2D(64, (2,2), activation = 'relu')(pool_6)\n",
        "batch_norm_6 = BatchNormalization()(conv_7) \n",
        "squeezed = Lambda(lambda x: K.squeeze(x, 1))(conv_7)\n",
        " \n",
        "# bidirectional LSTM layers with units=128\n",
        "blstm_1 = Bidirectional(CuDNNLSTM(128, return_sequences=True))(squeezed)\n",
        "blstm_2 = Bidirectional(CuDNNLSTM(128, return_sequences=True))(blstm_1)\n",
        "\n",
        "outputs = Dense(len(char_list) + 1, activation = 'softmax')(blstm_2)\n",
        "\n",
        "# model to be used at test time\n",
        "reco_text_model_try2 = Model(inputs, outputs)"
      ],
      "execution_count": null,
      "outputs": []
    },
    {
      "cell_type": "code",
      "metadata": {
        "colab": {
          "base_uri": "https://localhost:8080/"
        },
        "id": "AQPIzEBrLc6B",
        "outputId": "b325bab7-916f-43b5-c469-8a5a87f06238"
      },
      "source": [
        "reco_text_model_try2.summary()"
      ],
      "execution_count": null,
      "outputs": [
        {
          "output_type": "stream",
          "text": [
            "Model: \"model\"\n",
            "_________________________________________________________________\n",
            "Layer (type)                 Output Shape              Param #   \n",
            "=================================================================\n",
            "input_1 (InputLayer)         [(None, 32, 128, 1)]      0         \n",
            "_________________________________________________________________\n",
            "conv2d (Conv2D)              (None, 32, 128, 16)       160       \n",
            "_________________________________________________________________\n",
            "max_pooling2d (MaxPooling2D) (None, 16, 64, 16)        0         \n",
            "_________________________________________________________________\n",
            "conv2d_1 (Conv2D)            (None, 16, 64, 32)        4640      \n",
            "_________________________________________________________________\n",
            "max_pooling2d_1 (MaxPooling2 (None, 8, 32, 32)         0         \n",
            "_________________________________________________________________\n",
            "conv2d_2 (Conv2D)            (None, 8, 32, 64)         18496     \n",
            "_________________________________________________________________\n",
            "conv2d_3 (Conv2D)            (None, 8, 32, 64)         36928     \n",
            "_________________________________________________________________\n",
            "max_pooling2d_2 (MaxPooling2 (None, 4, 32, 64)         0         \n",
            "_________________________________________________________________\n",
            "conv2d_4 (Conv2D)            (None, 4, 32, 64)         36928     \n",
            "_________________________________________________________________\n",
            "batch_normalization_1 (Batch (None, 4, 32, 64)         256       \n",
            "_________________________________________________________________\n",
            "conv2d_5 (Conv2D)            (None, 4, 32, 64)         36928     \n",
            "_________________________________________________________________\n",
            "batch_normalization_2 (Batch (None, 4, 32, 64)         256       \n",
            "_________________________________________________________________\n",
            "max_pooling2d_3 (MaxPooling2 (None, 2, 32, 64)         0         \n",
            "_________________________________________________________________\n",
            "conv2d_6 (Conv2D)            (None, 1, 31, 64)         16448     \n",
            "_________________________________________________________________\n",
            "lambda (Lambda)              (None, 31, 64)            0         \n",
            "_________________________________________________________________\n",
            "bidirectional (Bidirectional (None, 31, 256)           198656    \n",
            "_________________________________________________________________\n",
            "bidirectional_1 (Bidirection (None, 31, 256)           395264    \n",
            "_________________________________________________________________\n",
            "dense (Dense)                (None, 31, 63)            16191     \n",
            "=================================================================\n",
            "Total params: 761,151\n",
            "Trainable params: 760,895\n",
            "Non-trainable params: 256\n",
            "_________________________________________________________________\n"
          ],
          "name": "stdout"
        }
      ]
    },
    {
      "cell_type": "code",
      "metadata": {
        "id": "Hyvt0py9LrCZ"
      },
      "source": [
        "labels = Input(name='the_labels', shape=[max_label_len], dtype='float32')\n",
        "input_length = Input(name='input_length', shape=[1], dtype='int64')\n",
        "label_length = Input(name='label_length', shape=[1], dtype='int64')\n",
        "\n",
        "def ctc_lambda_func(args):\n",
        "    y_pred, labels, input_length, label_length = args \n",
        "    return K.ctc_batch_cost(labels, y_pred, input_length, label_length)\n",
        " \n",
        "loss_out = Lambda(ctc_lambda_func, \n",
        "                  output_shape=(1,), \n",
        "                  name='ctc')([outputs, labels, input_length, label_length])\n",
        "\n",
        "#model to be used at training time\n",
        "model = Model(inputs=[inputs, labels, input_length, label_length], outputs=loss_out)"
      ],
      "execution_count": null,
      "outputs": []
    },
    {
      "cell_type": "code",
      "metadata": {
        "id": "pKhtLRTOLuJr"
      },
      "source": [
        "file_path = \"text_reco1_model.hdf5\"\n",
        "\n",
        "model.compile(loss={'ctc': lambda y_true, y_pred: y_pred}, optimizer = 'rmsprop')\n",
        "\n",
        "\n",
        "checkpoint = ModelCheckpoint(filepath=file_path, \n",
        "                             monitor='val_loss', \n",
        "                             verbose=1, \n",
        "                             save_best_only=True, \n",
        "                             mode='min')\n",
        "\n",
        "callbacks_list = [checkpoint]"
      ],
      "execution_count": null,
      "outputs": []
    },
    {
      "cell_type": "code",
      "metadata": {
        "colab": {
          "base_uri": "https://localhost:8080/"
        },
        "id": "c1n4nJJHLwyr",
        "outputId": "eb624044-17d8-454d-9623-c39c4609bfd6"
      },
      "source": [
        "epochs = 50\n",
        "\n",
        "history = model.fit(train_generator, \n",
        "                    epochs = epochs,\n",
        "                    steps_per_epoch = len(train_final_paths) // batch_size,\n",
        "                    validation_data=val_generator,\n",
        "                    validation_steps = len(val_final_paths) // batch_size,\n",
        "                    verbose = 0,\n",
        "                    callbacks = callbacks_list,\n",
        "                    shuffle=None)"
      ],
      "execution_count": null,
      "outputs": [
        {
          "output_type": "stream",
          "text": [
            "\n",
            "Epoch 00001: val_loss improved from inf to 21.65227, saving model to text_reco1_model.hdf5\n",
            "\n",
            "Epoch 00002: val_loss improved from 21.65227 to 8.74390, saving model to text_reco1_model.hdf5\n",
            "\n",
            "Epoch 00003: val_loss improved from 8.74390 to 6.10348, saving model to text_reco1_model.hdf5\n",
            "\n",
            "Epoch 00004: val_loss improved from 6.10348 to 5.32938, saving model to text_reco1_model.hdf5\n",
            "\n",
            "Epoch 00005: val_loss improved from 5.32938 to 5.18027, saving model to text_reco1_model.hdf5\n",
            "\n",
            "Epoch 00006: val_loss improved from 5.18027 to 4.77955, saving model to text_reco1_model.hdf5\n",
            "\n",
            "Epoch 00007: val_loss did not improve from 4.77955\n",
            "\n",
            "Epoch 00008: val_loss improved from 4.77955 to 4.56193, saving model to text_reco1_model.hdf5\n",
            "\n",
            "Epoch 00009: val_loss did not improve from 4.56193\n",
            "\n",
            "Epoch 00010: val_loss did not improve from 4.56193\n",
            "\n",
            "Epoch 00011: val_loss did not improve from 4.56193\n",
            "\n",
            "Epoch 00012: val_loss did not improve from 4.56193\n",
            "\n",
            "Epoch 00013: val_loss did not improve from 4.56193\n",
            "\n",
            "Epoch 00014: val_loss did not improve from 4.56193\n",
            "\n",
            "Epoch 00015: val_loss did not improve from 4.56193\n",
            "\n",
            "Epoch 00016: val_loss did not improve from 4.56193\n",
            "\n",
            "Epoch 00017: val_loss did not improve from 4.56193\n",
            "\n",
            "Epoch 00018: val_loss did not improve from 4.56193\n",
            "\n",
            "Epoch 00019: val_loss did not improve from 4.56193\n",
            "\n",
            "Epoch 00020: val_loss did not improve from 4.56193\n",
            "\n",
            "Epoch 00021: val_loss did not improve from 4.56193\n",
            "\n",
            "Epoch 00022: val_loss did not improve from 4.56193\n",
            "\n",
            "Epoch 00023: val_loss did not improve from 4.56193\n",
            "\n",
            "Epoch 00024: val_loss did not improve from 4.56193\n",
            "\n",
            "Epoch 00025: val_loss did not improve from 4.56193\n",
            "\n",
            "Epoch 00026: val_loss did not improve from 4.56193\n",
            "\n",
            "Epoch 00027: val_loss did not improve from 4.56193\n",
            "\n",
            "Epoch 00028: val_loss did not improve from 4.56193\n",
            "\n",
            "Epoch 00029: val_loss did not improve from 4.56193\n",
            "\n",
            "Epoch 00030: val_loss did not improve from 4.56193\n",
            "\n",
            "Epoch 00031: val_loss did not improve from 4.56193\n",
            "\n",
            "Epoch 00032: val_loss did not improve from 4.56193\n",
            "\n",
            "Epoch 00033: val_loss did not improve from 4.56193\n",
            "\n",
            "Epoch 00034: val_loss did not improve from 4.56193\n",
            "\n",
            "Epoch 00035: val_loss did not improve from 4.56193\n",
            "\n",
            "Epoch 00036: val_loss did not improve from 4.56193\n",
            "\n",
            "Epoch 00037: val_loss did not improve from 4.56193\n",
            "\n",
            "Epoch 00038: val_loss did not improve from 4.56193\n",
            "\n",
            "Epoch 00039: val_loss did not improve from 4.56193\n",
            "\n",
            "Epoch 00040: val_loss did not improve from 4.56193\n",
            "\n",
            "Epoch 00041: val_loss did not improve from 4.56193\n",
            "\n",
            "Epoch 00042: val_loss did not improve from 4.56193\n",
            "\n",
            "Epoch 00043: val_loss did not improve from 4.56193\n",
            "\n",
            "Epoch 00044: val_loss did not improve from 4.56193\n",
            "\n",
            "Epoch 00045: val_loss did not improve from 4.56193\n",
            "\n",
            "Epoch 00046: val_loss did not improve from 4.56193\n",
            "\n",
            "Epoch 00047: val_loss did not improve from 4.56193\n",
            "\n",
            "Epoch 00048: val_loss did not improve from 4.56193\n",
            "\n",
            "Epoch 00049: val_loss did not improve from 4.56193\n",
            "\n",
            "Epoch 00050: val_loss did not improve from 4.56193\n"
          ],
          "name": "stdout"
        }
      ]
    },
    {
      "cell_type": "code",
      "metadata": {
        "colab": {
          "base_uri": "https://localhost:8080/",
          "height": 295
        },
        "id": "1YemS72rR9u2",
        "outputId": "0c3100bf-8753-454f-c8ff-de5652ee5997"
      },
      "source": [
        "plt.plot(history.history['loss'])\n",
        "plt.plot(history.history['val_loss'])\n",
        "plt.title('model loss')\n",
        "plt.ylabel('loss')\n",
        "plt.xlabel('epoch')\n",
        "plt.legend(['train', 'test'], loc='upper left')\n",
        "plt.show()"
      ],
      "execution_count": null,
      "outputs": [
        {
          "output_type": "display_data",
          "data": {
            "image/png": "[encoded data removed]",
            "text/plain": [
              "<Figure size 432x288 with 1 Axes>"
            ]
          },
          "metadata": {
            "tags": [],
            "needs_background": "light"
          }
        }
      ]
    },
    {
      "cell_type": "code",
      "metadata": {
        "id": "_ajTlMXaSZV6"
      },
      "source": [
        "def pre_process_image(path):\n",
        "    \n",
        "    img = cv2.cvtColor(cv2.imread(path), cv2.COLOR_BGR2GRAY)\n",
        "    ### actually returns h, w\n",
        "    h, w = img.shape\n",
        "\n",
        "    ### if height less than 32\n",
        "    if h < 32:\n",
        "        add_zeros = np.ones((32-h, w)) * 255\n",
        "        img = np.concatenate((img, add_zeros))\n",
        "        h = 32\n",
        "\n",
        "    ## if width less than 128\n",
        "    if w < 128:\n",
        "        add_zeros = np.ones((h, 128-w)) * 255\n",
        "        img = np.concatenate((img, add_zeros), axis=1)\n",
        "        w = 128\n",
        "\n",
        "    ### if width is greater than 128 or height greater than 32\n",
        "    if w > 128 or h > 32:\n",
        "        img = cv2.resize(img, (128, 32))\n",
        "\n",
        "    \n",
        "    img = np.expand_dims(img , axis = 2)\n",
        "\n",
        "    # Normalize each image\n",
        "    img = img / 255.\n",
        "    \n",
        "    return img"
      ],
      "execution_count": null,
      "outputs": []
    },
    {
      "cell_type": "code",
      "metadata": {
        "id": "ISi2wJBoSkWP"
      },
      "source": [
        "reco_text_model_try2.load_weights('/content/text_reco1_model.hdf5')"
      ],
      "execution_count": null,
      "outputs": []
    },
    {
      "cell_type": "code",
      "metadata": {
        "id": "fcPDPLTsSSAq"
      },
      "source": [
        "\n",
        "def predict_output(img):\n",
        "    # predict outputs on validation images\n",
        "    prediction = reco_text_model_try2.predict(np.array([img]))\n",
        "    ## shape (batch_size, num_timesteps, vocab_size)\n",
        "\n",
        "    # use CTC decoder\n",
        "    out = K.get_value(K.ctc_decode(prediction, \n",
        "                                   input_length=np.ones(prediction.shape[0]) * prediction.shape[1],\n",
        "                                   greedy=True)[0][0])\n",
        "\n",
        "    ## get the final text    \n",
        "    for x in out:\n",
        "\n",
        "        print(\"predicted text = \", end = '')\n",
        "\n",
        "        for p in x:\n",
        "\n",
        "            if int(p) != -1:\n",
        "                print(char_list[int(p)], end = '')\n",
        "        \n",
        "        print('\\n')"
      ],
      "execution_count": null,
      "outputs": []
    },
    {
      "cell_type": "code",
      "metadata": {
        "colab": {
          "base_uri": "https://localhost:8080/",
          "height": 1000
        },
        "id": "ZrUPqAJkSUqM",
        "outputId": "018d414b-e541-44ec-9c02-a7f785f0669e"
      },
      "source": [
        "from IPython.display import display\n",
        "from random import randrange\n",
        "\n",
        "for i in range(10):\n",
        "    index = randrange(len(val_final_paths))\n",
        "    im = Image.open(val_final_paths[index])\n",
        "    display(im)\n",
        "\n",
        "    print(\"\\n\")\n",
        "\n",
        "    test_img = pre_process_image(val_final_paths[index])\n",
        "    predict_output(test_img)"
      ],
      "execution_count": null,
      "outputs": [
        {
          "output_type": "display_data",
          "data": {
            "image/png": "[encoded data removed]",
            "text/plain": [
              "<PIL.JpegImagePlugin.JpegImageFile image mode=RGB size=95x31 at 0x7F04923A9C10>"
            ]
          },
          "metadata": {
            "tags": []
          }
        },
        {
          "output_type": "stream",
          "text": [
            "\n",
            "\n",
            "predicted text = hauptmans\n",
            "\n"
          ],
          "name": "stdout"
        },
        {
          "output_type": "display_data",
          "data": {
            "image/png": "[encoded data removed]",
            "text/plain": [
              "<PIL.JpegImagePlugin.JpegImageFile image mode=RGB size=38x32 at 0x7F04923A1950>"
            ]
          },
          "metadata": {
            "tags": []
          }
        },
        {
          "output_type": "stream",
          "text": [
            "\n",
            "\n",
            "predicted text = skis\n",
            "\n"
          ],
          "name": "stdout"
        },
        {
          "output_type": "display_data",
          "data": {
            "image/png": "[encoded data removed]",
            "text/plain": [
              "<PIL.JpegImagePlugin.JpegImageFile image mode=RGB size=111x31 at 0x7F0492235E10>"
            ]
          },
          "metadata": {
            "tags": []
          }
        },
        {
          "output_type": "stream",
          "text": [
            "\n",
            "\n",
            "predicted text = Multitasks\n",
            "\n"
          ],
          "name": "stdout"
        },
        {
          "output_type": "display_data",
          "data": {
            "image/png": "[encoded data removed]",
            "text/plain": [
              "<PIL.JpegImagePlugin.JpegImageFile image mode=RGB size=93x31 at 0x7F049234EC10>"
            ]
          },
          "metadata": {
            "tags": []
          }
        },
        {
          "output_type": "stream",
          "text": [
            "\n",
            "\n",
            "predicted text = STACK\n",
            "\n"
          ],
          "name": "stdout"
        },
        {
          "output_type": "display_data",
          "data": {
            "image/png": "[encoded data removed]",
            "text/plain": [
              "<PIL.JpegImagePlugin.JpegImageFile image mode=RGB size=141x31 at 0x7F04921E4A50>"
            ]
          },
          "metadata": {
            "tags": []
          }
        },
        {
          "output_type": "stream",
          "text": [
            "\n",
            "\n",
            "predicted text = ClianEY\n",
            "\n"
          ],
          "name": "stdout"
        },
        {
          "output_type": "display_data",
          "data": {
            "image/png": "[encoded data removed]",
            "text/plain": [
              "<PIL.JpegImagePlugin.JpegImageFile image mode=RGB size=124x31 at 0x7F0492230490>"
            ]
          },
          "metadata": {
            "tags": []
          }
        },
        {
          "output_type": "stream",
          "text": [
            "\n",
            "\n",
            "predicted text = detract\n",
            "\n"
          ],
          "name": "stdout"
        },
        {
          "output_type": "display_data",
          "data": {
            "image/png": "[encoded data removed]",
            "text/plain": [
              "<PIL.JpegImagePlugin.JpegImageFile image mode=RGB size=83x31 at 0x7F04921B9F10>"
            ]
          },
          "metadata": {
            "tags": []
          }
        },
        {
          "output_type": "stream",
          "text": [
            "\n",
            "\n",
            "predicted text = sermon\n",
            "\n"
          ],
          "name": "stdout"
        },
        {
          "output_type": "display_data",
          "data": {
            "image/png": "[encoded data removed]",
            "text/plain": [
              "<PIL.JpegImagePlugin.JpegImageFile image mode=RGB size=110x31 at 0x7F049215FCD0>"
            ]
          },
          "metadata": {
            "tags": []
          }
        },
        {
          "output_type": "stream",
          "text": [
            "\n",
            "\n",
            "predicted text = Perfect\n",
            "\n"
          ],
          "name": "stdout"
        },
        {
          "output_type": "display_data",
          "data": {
            "image/png": "[encoded data removed]",
            "text/plain": [
              "<PIL.JpegImagePlugin.JpegImageFile image mode=RGB size=63x32 at 0x7F0492102490>"
            ]
          },
          "metadata": {
            "tags": []
          }
        },
        {
          "output_type": "stream",
          "text": [
            "\n",
            "\n",
            "predicted text = TIN\n",
            "\n"
          ],
          "name": "stdout"
        },
        {
          "output_type": "display_data",
          "data": {
            "image/png": "[encoded data removed]",
            "text/plain": [
              "<PIL.JpegImagePlugin.JpegImageFile image mode=RGB size=255x31 at 0x7F04921369D0>"
            ]
          },
          "metadata": {
            "tags": []
          }
        },
        {
          "output_type": "stream",
          "text": [
            "\n",
            "\n",
            "predicted text = confusedly\n",
            "\n"
          ],
          "name": "stdout"
        }
      ]
    }
  ]
}